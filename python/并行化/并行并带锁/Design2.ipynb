{
 "cells": [
  {
   "cell_type": "code",
   "execution_count": 11,
   "metadata": {},
   "outputs": [
    {
     "name": "stdout",
     "output_type": "stream",
     "text": [
      "(1, 'Resource deadlock avoided')\n"
     ]
    }
   ],
   "source": [
    "import portalocker\n",
    "file_path=r\"E:\\Users\\scfan\\program\\Template\\python\\并行化\\并行并带锁\\Temp_process_lock_86165c4ec7b51c31\\0.pkl\"\n",
    "file=open(file_path,'r+')\n",
    "try:\n",
    "    portalocker.lock(file,portalocker.LOCK_EX)\n",
    "except Exception as e:\n",
    "    print(e)"
   ]
  },
  {
   "cell_type": "code",
   "execution_count": 7,
   "metadata": {},
   "outputs": [],
   "source": [
    "portalocker.unlock(file)"
   ]
  },
  {
   "cell_type": "code",
   "execution_count": 21,
   "metadata": {},
   "outputs": [
    {
     "data": {
      "text/plain": [
       "datetime.datetime(2021, 8, 21, 18, 31, 6, 209581)"
      ]
     },
     "execution_count": 21,
     "metadata": {},
     "output_type": "execute_result"
    }
   ],
   "source": [
    "import datetime\n",
    "start=datetime.datetime.now()\n",
    "end=datetime.datetime.now()"
   ]
  },
  {
   "cell_type": "code",
   "execution_count": 23,
   "metadata": {},
   "outputs": [
    {
     "name": "stdout",
     "output_type": "stream",
     "text": [
      "(1, 'Resource deadlock avoided')\n",
      "0:00:20.135296\n"
     ]
    }
   ],
   "source": [
    "import time\n",
    "\n",
    "start=datetime.datetime.now()\n",
    "\n",
    "try:\n",
    "    with portalocker.Lock(file_path, flags=portalocker.LOCK_EX,timeout=1) as _:\n",
    "        with open(file_path,'rb') as file:\n",
    "            print('In')\n",
    "except Exception as e:\n",
    "    print(e)\n",
    "end=datetime.datetime.now()\n",
    "print(end-start)"
   ]
  },
  {
   "cell_type": "code",
   "execution_count": 27,
   "metadata": {},
   "outputs": [
    {
     "name": "stdout",
     "output_type": "stream",
     "text": [
      "In\n",
      "0:00:00.001001\n"
     ]
    }
   ],
   "source": [
    "import time\n",
    "\n",
    "start=datetime.datetime.now()\n",
    "\n",
    "try:\n",
    "    with portalocker.Lock(file_path, flags=portalocker.LOCK_EX,timeout=30) as _:\n",
    "        with open(file_path,'rb') as file:\n",
    "            print('In')\n",
    "except Exception as e:\n",
    "    print(e)\n",
    "end=datetime.datetime.now()\n",
    "print(end-start)"
   ]
  },
  {
   "cell_type": "markdown",
   "metadata": {},
   "source": [
    "# try file lock"
   ]
  },
  {
   "cell_type": "code",
   "execution_count": 1,
   "metadata": {},
   "outputs": [
    {
     "name": "stderr",
     "output_type": "stream",
     "text": [
      "In E:\\Users\\scfan\\software\\Anaconda3\\envs\\base_191\\lib\\site-packages\\matplotlib\\mpl-data\\stylelib\\_classic_test.mplstyle: \n",
      "The text.latex.preview rcparam was deprecated in Matplotlib 3.3 and will be removed two minor releases later.\n",
      "In E:\\Users\\scfan\\software\\Anaconda3\\envs\\base_191\\lib\\site-packages\\matplotlib\\mpl-data\\stylelib\\_classic_test.mplstyle: \n",
      "The mathtext.fallback_to_cm rcparam was deprecated in Matplotlib 3.3 and will be removed two minor releases later.\n",
      "In E:\\Users\\scfan\\software\\Anaconda3\\envs\\base_191\\lib\\site-packages\\matplotlib\\mpl-data\\stylelib\\_classic_test.mplstyle: Support for setting the 'mathtext.fallback_to_cm' rcParam is deprecated since 3.3 and will be removed two minor releases later; use 'mathtext.fallback : 'cm' instead.\n",
      "In E:\\Users\\scfan\\software\\Anaconda3\\envs\\base_191\\lib\\site-packages\\matplotlib\\mpl-data\\stylelib\\_classic_test.mplstyle: \n",
      "The validate_bool_maybe_none function was deprecated in Matplotlib 3.3 and will be removed two minor releases later.\n",
      "In E:\\Users\\scfan\\software\\Anaconda3\\envs\\base_191\\lib\\site-packages\\matplotlib\\mpl-data\\stylelib\\_classic_test.mplstyle: \n",
      "The savefig.jpeg_quality rcparam was deprecated in Matplotlib 3.3 and will be removed two minor releases later.\n",
      "In E:\\Users\\scfan\\software\\Anaconda3\\envs\\base_191\\lib\\site-packages\\matplotlib\\mpl-data\\stylelib\\_classic_test.mplstyle: \n",
      "The keymap.all_axes rcparam was deprecated in Matplotlib 3.3 and will be removed two minor releases later.\n",
      "In E:\\Users\\scfan\\software\\Anaconda3\\envs\\base_191\\lib\\site-packages\\matplotlib\\mpl-data\\stylelib\\_classic_test.mplstyle: \n",
      "The animation.avconv_path rcparam was deprecated in Matplotlib 3.3 and will be removed two minor releases later.\n",
      "In E:\\Users\\scfan\\software\\Anaconda3\\envs\\base_191\\lib\\site-packages\\matplotlib\\mpl-data\\stylelib\\_classic_test.mplstyle: \n",
      "The animation.avconv_args rcparam was deprecated in Matplotlib 3.3 and will be removed two minor releases later.\n"
     ]
    },
    {
     "data": {
      "text/plain": [
       "<module 'image_project.function_basic' from 'E:\\\\Users\\\\scfan\\\\program\\\\image_project\\\\function_basic.py'>"
      ]
     },
     "execution_count": 1,
     "metadata": {},
     "output_type": "execute_result"
    }
   ],
   "source": [
    "import sys\n",
    "import importlib\n",
    "src_dir=r\"E:\\Users\\scfan\\program\"\n",
    "sys.path.append(src_dir)\n",
    "\n",
    "import image_project.function_basic as function_basic\n",
    "importlib.reload(function_basic)\n",
    "basic=function_basic.basic_function()\n",
    "from image_project.source.MultiProcessTools import *"
   ]
  },
  {
   "cell_type": "code",
   "execution_count": 2,
   "metadata": {},
   "outputs": [
    {
     "data": {
      "text/plain": [
       "1"
      ]
     },
     "execution_count": 2,
     "metadata": {},
     "output_type": "execute_result"
    }
   ],
   "source": [
    "file_name=r'E:\\\\Users\\\\scfan\\\\program\\\\Template\\\\python\\\\并行化\\\\并行并带锁\\\\Temp_process_lock_e2d3d37043cf6ea7\\1.pkl'\n",
    "basic.load_variable_from_pikle_file_with_lock(file_name)"
   ]
  },
  {
   "cell_type": "code",
   "execution_count": null,
   "metadata": {},
   "outputs": [],
   "source": []
  },
  {
   "cell_type": "code",
   "execution_count": 4,
   "metadata": {},
   "outputs": [],
   "source": [
    "sub_process_number=30\n",
    "lock_dir=r\"E:\\\\Users\\\\scfan\\\\program\\\\Template\\\\python\\\\并行化\\\\并行并带锁\\\\Temp_process_lock_e2d3d37043cf6ea7\"\n",
    "sub_lock_index_list=MultiProcess.Lock.create_sub_lock_index_list(sub_process_number)"
   ]
  },
  {
   "cell_type": "code",
   "execution_count": 6,
   "metadata": {
    "collapsed": true,
    "jupyter": {
     "outputs_hidden": true
    }
   },
   "outputs": [
    {
     "data": {
      "text/plain": [
       "1"
      ]
     },
     "execution_count": 6,
     "metadata": {},
     "output_type": "execute_result"
    },
    {
     "data": {
      "text/plain": [
       "[0,\n",
       " 1,\n",
       " 2,\n",
       " 3,\n",
       " 4,\n",
       " 5,\n",
       " 6,\n",
       " 7,\n",
       " 8,\n",
       " 9,\n",
       " 10,\n",
       " 11,\n",
       " 12,\n",
       " 13,\n",
       " 14,\n",
       " 15,\n",
       " 16,\n",
       " 17,\n",
       " 18,\n",
       " 19,\n",
       " 20,\n",
       " 21,\n",
       " 22,\n",
       " 23,\n",
       " 24,\n",
       " 25,\n",
       " 26,\n",
       " 27,\n",
       " 28,\n",
       " 29]"
      ]
     },
     "execution_count": 6,
     "metadata": {},
     "output_type": "execute_result"
    }
   ],
   "source": [
    "axis_lock\n",
    "sub_lock_index_list"
   ]
  },
  {
   "cell_type": "code",
   "execution_count": 5,
   "metadata": {},
   "outputs": [
    {
     "name": "stdout",
     "output_type": "stream",
     "text": [
      "1 's lock state is  1\n",
      "1  is waiting to inter the lock.\n",
      "1 's lock state is  1\n",
      "1  is waiting to inter the lock.\n",
      "1 's lock state is  1\n",
      "1  is waiting to inter the lock.\n",
      "1 's lock state is  1\n",
      "1  is waiting to inter the lock.\n",
      "1 's lock state is  1\n",
      "1  is waiting to inter the lock.\n",
      "1 's lock state is  1\n",
      "1  is waiting to inter the lock.\n",
      "1 's lock state is  1\n",
      "1  is waiting to inter the lock.\n",
      "1 's lock state is  1\n",
      "1  is waiting to inter the lock.\n",
      "1 's lock state is  0\n"
     ]
    }
   ],
   "source": [
    "axis_lock=1\n",
    "MultiProcess.Lock.open_lock(lock_dir,axis_lock,sub_lock_index_list)"
   ]
  }
 ],
 "metadata": {
  "kernelspec": {
   "display_name": "base_191",
   "language": "python",
   "name": "base_191"
  },
  "language_info": {
   "codemirror_mode": {
    "name": "ipython",
    "version": 3
   },
   "file_extension": ".py",
   "mimetype": "text/x-python",
   "name": "python",
   "nbconvert_exporter": "python",
   "pygments_lexer": "ipython3",
   "version": "3.7.4"
  }
 },
 "nbformat": 4,
 "nbformat_minor": 4
}
