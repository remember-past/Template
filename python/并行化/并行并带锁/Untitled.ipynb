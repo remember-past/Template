{
 "cells": [
  {
   "cell_type": "code",
   "execution_count": 25,
   "metadata": {},
   "outputs": [
    {
     "data": {
      "application/javascript": [
       "\n",
       "        if (window._pyforest_update_imports_cell) { window._pyforest_update_imports_cell('import sys\\nimport os'); }\n",
       "    "
      ],
      "text/plain": [
       "<IPython.core.display.Javascript object>"
      ]
     },
     "metadata": {},
     "output_type": "display_data"
    }
   ],
   "source": [
    "import numpy as np\n",
    "import hashlib\n",
    "import shutil\n",
    "import importlib\n",
    "base_lock_dir=r\"E:\\Users\\scfan\\program\\Template\\python\\并行化\\并行并带锁\"\n",
    "random_str=str(np.random.randn())\n",
    "anti_recode=hashlib.md5(random_str.encode('utf-8')).hexdigest()[8:-8]\n",
    "lock_dir=os.path.join(base_lock_dir,'Temp_process_lock_'+anti_recode)"
   ]
  },
  {
   "cell_type": "code",
   "execution_count": 36,
   "metadata": {},
   "outputs": [
    {
     "data": {
      "text/plain": [
       "<module 'image_project.source.MultiProcessTools.MultiProcess' from 'E:\\\\Users\\\\scfan\\\\program\\\\image_project\\\\source\\\\MultiProcessTools\\\\MultiProcess.py'>"
      ]
     },
     "execution_count": 36,
     "metadata": {},
     "output_type": "execute_result"
    }
   ],
   "source": [
    "import importlib\n",
    "importlib.reload(MultiProcess)\n",
    "lock_dir=MultiProcess.Lock.create_lock_dir(base_lock_dir)"
   ]
  },
  {
   "cell_type": "code",
   "execution_count": null,
   "metadata": {},
   "outputs": [],
   "source": [
    "create_lock_dir(base_lock_dir)"
   ]
  },
  {
   "cell_type": "code",
   "execution_count": 60,
   "metadata": {},
   "outputs": [
    {
     "data": {
      "application/javascript": [
       "\n",
       "        if (window._pyforest_update_imports_cell) { window._pyforest_update_imports_cell('import sys\\nfrom sklearn.preprocessing import OneHotEncoder\\nfrom sklearn.ensemble import GradientBoostingRegressor\\nfrom sklearn.ensemble import RandomForestRegressor\\nfrom sklearn.ensemble import GradientBoostingClassifier\\nfrom pathlib import Path\\nfrom sklearn.ensemble import RandomForestClassifier\\nimport os'); }\n",
       "    "
      ],
      "text/plain": [
       "<IPython.core.display.Javascript object>"
      ]
     },
     "metadata": {},
     "output_type": "display_data"
    },
    {
     "data": {
      "text/plain": [
       "<module 'image_project.function_basic' from 'E:\\\\Users\\\\scfan\\\\program\\\\image_project\\\\function_basic.py'>"
      ]
     },
     "execution_count": 60,
     "metadata": {},
     "output_type": "execute_result"
    }
   ],
   "source": [
    "src_dir=r\"E:\\Users\\scfan\\program\"\n",
    "sys.path.append(src_dir)\n",
    "\n",
    "import image_project.function_basic as function_basic\n",
    "importlib.reload(function_basic)\n",
    "basic=function_basic.basic_function()\n",
    "from image_project.source.MultiProcessTools import *\n",
    "MultiProcess.Lock.init_sublock_file(lock_dir,sub_lock_index_list)"
   ]
  },
  {
   "cell_type": "code",
   "execution_count": null,
   "metadata": {},
   "outputs": [],
   "source": []
  },
  {
   "cell_type": "code",
   "execution_count": 30,
   "metadata": {
    "collapsed": true,
    "jupyter": {
     "outputs_hidden": true
    }
   },
   "outputs": [
    {
     "data": {
      "text/plain": [
       "[0,\n",
       " 1,\n",
       " 2,\n",
       " 3,\n",
       " 4,\n",
       " 5,\n",
       " 6,\n",
       " 7,\n",
       " 8,\n",
       " 9,\n",
       " 10,\n",
       " 11,\n",
       " 12,\n",
       " 13,\n",
       " 14,\n",
       " 15,\n",
       " 16,\n",
       " 17,\n",
       " 18,\n",
       " 19,\n",
       " 20,\n",
       " 21,\n",
       " 22,\n",
       " 23,\n",
       " 24,\n",
       " 25,\n",
       " 26,\n",
       " 27,\n",
       " 28,\n",
       " 29]"
      ]
     },
     "execution_count": 30,
     "metadata": {},
     "output_type": "execute_result"
    }
   ],
   "source": [
    "basic.recursive_mkdir(lock_dir)\n",
    "sub_process_number=30\n",
    "sub_lock_index_list=[i for i in range(sub_process_number)]\n",
    "sub_lock_index_list"
   ]
  },
  {
   "cell_type": "code",
   "execution_count": 32,
   "metadata": {},
   "outputs": [],
   "source": [
    "from image_project.source.MultiProcessTools import *\n",
    "MultiProcess.Lock.init_sublock_file(lock_dir,sub_lock_index_list)"
   ]
  },
  {
   "cell_type": "code",
   "execution_count": null,
   "metadata": {},
   "outputs": [],
   "source": []
  },
  {
   "cell_type": "code",
   "execution_count": null,
   "metadata": {},
   "outputs": [],
   "source": [
    "basic.store_variable_from_pikle_file()"
   ]
  },
  {
   "cell_type": "code",
   "execution_count": 85,
   "metadata": {},
   "outputs": [],
   "source": [
    "shutil.rmtree(lock_dir)"
   ]
  },
  {
   "cell_type": "code",
   "execution_count": 38,
   "metadata": {},
   "outputs": [
    {
     "data": {
      "text/plain": [
       "<module 'image_project.source.MultiProcessTools.MultiProcess' from 'E:\\\\Users\\\\scfan\\\\program\\\\image_project\\\\source\\\\MultiProcessTools\\\\MultiProcess.py'>"
      ]
     },
     "execution_count": 38,
     "metadata": {},
     "output_type": "execute_result"
    }
   ],
   "source": [
    "importlib.reload(MultiProcess)"
   ]
  },
  {
   "cell_type": "code",
   "execution_count": 62,
   "metadata": {},
   "outputs": [
    {
     "data": {
      "text/plain": [
       "<module 'image_project.source.MultiProcessTools.MultiProcess' from 'E:\\\\Users\\\\scfan\\\\program\\\\image_project\\\\source\\\\MultiProcessTools\\\\MultiProcess.py'>"
      ]
     },
     "execution_count": 62,
     "metadata": {},
     "output_type": "execute_result"
    }
   ],
   "source": [
    "import importlib\n",
    "importlib.reload(MultiProcess)\n",
    "sub_process_number=30\n",
    "lock_dir=MultiProcess.Lock.create_lock_dir(base_lock_dir)\n",
    "sub_lock_index_list=MultiProcess.Lock.create_sub_lock_index_list(sub_process_number)\n",
    "MultiProcess.Lock.init_sublock_file(lock_dir,sub_lock_index_list)\n"
   ]
  },
  {
   "cell_type": "code",
   "execution_count": null,
   "metadata": {},
   "outputs": [],
   "source": [
    "MultiProcess.Lock.clear_lock_dir(lock_dir)"
   ]
  },
  {
   "cell_type": "code",
   "execution_count": 54,
   "metadata": {},
   "outputs": [
    {
     "data": {
      "text/plain": [
       "<module 'image_project.source.MultiProcessTools.MultiProcess' from 'E:\\\\Users\\\\scfan\\\\program\\\\image_project\\\\source\\\\MultiProcessTools\\\\MultiProcess.py'>"
      ]
     },
     "execution_count": 54,
     "metadata": {},
     "output_type": "execute_result"
    }
   ],
   "source": [
    "importlib.reload(MultiProcess)\n",
    "sub_process_number=30\n",
    "sub_lock_index_list=MultiProcess.Lock.create_sub_lock_index_list(sub_process_number)"
   ]
  },
  {
   "cell_type": "code",
   "execution_count": 49,
   "metadata": {},
   "outputs": [],
   "source": [
    "import multiprocessing\n",
    "num = multiprocessing.Value('i', 1)"
   ]
  },
  {
   "cell_type": "code",
   "execution_count": 50,
   "metadata": {},
   "outputs": [
    {
     "data": {
      "text/plain": [
       "1"
      ]
     },
     "execution_count": 50,
     "metadata": {},
     "output_type": "execute_result"
    }
   ],
   "source": [
    "num.value"
   ]
  },
  {
   "cell_type": "code",
   "execution_count": 51,
   "metadata": {},
   "outputs": [
    {
     "data": {
      "text/plain": [
       "2"
      ]
     },
     "execution_count": 51,
     "metadata": {},
     "output_type": "execute_result"
    }
   ],
   "source": [
    "num.value=num.value+1\n",
    "num.value"
   ]
  },
  {
   "cell_type": "code",
   "execution_count": 80,
   "metadata": {},
   "outputs": [],
   "source": [
    "import portalocker\n",
    "file_path=r\"E:\\Users\\scfan\\program\\Template\\python\\并行化\\并行并带锁\\Temp_process_lock_86165c4ec7b51c31\\0.pkl\"\n",
    "file=open(file_path,'r+')\n",
    "portalocker.lock(file,portalocker.LOCK_EX)"
   ]
  },
  {
   "cell_type": "code",
   "execution_count": 81,
   "metadata": {},
   "outputs": [],
   "source": [
    "file.close()"
   ]
  },
  {
   "cell_type": "markdown",
   "metadata": {},
   "source": [
    "# try file lock"
   ]
  },
  {
   "cell_type": "code",
   "execution_count": 3,
   "metadata": {},
   "outputs": [
    {
     "data": {
      "application/javascript": [
       "\n",
       "        if (window._pyforest_update_imports_cell) { window._pyforest_update_imports_cell('import sys'); }\n",
       "    "
      ],
      "text/plain": [
       "<IPython.core.display.Javascript object>"
      ]
     },
     "metadata": {},
     "output_type": "display_data"
    },
    {
     "data": {
      "text/plain": [
       "<module 'image_project.function_basic' from 'E:\\\\Users\\\\scfan\\\\program\\\\image_project\\\\function_basic.py'>"
      ]
     },
     "execution_count": 3,
     "metadata": {},
     "output_type": "execute_result"
    }
   ],
   "source": [
    "src_dir=r\"E:\\Users\\scfan\\program\"\n",
    "sys.path.append(src_dir)\n",
    "\n",
    "import image_project.function_basic as function_basic\n",
    "importlib.reload(function_basic)\n",
    "basic=function_basic.basic_function()\n",
    "from image_project.source.MultiProcessTools import *"
   ]
  },
  {
   "cell_type": "code",
   "execution_count": 11,
   "metadata": {},
   "outputs": [
    {
     "data": {
      "text/plain": [
       "<module 'image_project.source.MultiProcessTools.MultiProcess' from 'E:\\\\Users\\\\scfan\\\\program\\\\image_project\\\\source\\\\MultiProcessTools\\\\MultiProcess.py'>"
      ]
     },
     "execution_count": 11,
     "metadata": {},
     "output_type": "execute_result"
    }
   ],
   "source": [
    "import importlib\n",
    "importlib.reload(MultiProcess)\n",
    "base_lock_dir=r\"E:\\Users\\scfan\\program\\Template\\python\\并行化\\并行并带锁\"\n",
    "sub_process_number=30\n",
    "lock_dir=MultiProcess.Lock.create_lock_dir(base_lock_dir)\n",
    "sub_lock_index_list=MultiProcess.Lock.create_sub_lock_index_list(sub_process_number)\n",
    "MultiProcess.Lock.init_sublock_file(lock_dir,sub_lock_index_list)"
   ]
  },
  {
   "cell_type": "code",
   "execution_count": 12,
   "metadata": {},
   "outputs": [
    {
     "data": {
      "text/plain": [
       "'E:\\\\Users\\\\scfan\\\\program\\\\Template\\\\python\\\\并行化\\\\并行并带锁\\\\Temp_process_lock_b237e955d101cf47'"
      ]
     },
     "execution_count": 12,
     "metadata": {},
     "output_type": "execute_result"
    }
   ],
   "source": [
    "lock_dir"
   ]
  },
  {
   "cell_type": "code",
   "execution_count": 13,
   "metadata": {},
   "outputs": [
    {
     "name": "stdout",
     "output_type": "stream",
     "text": [
      "0 's lock state is  0\n"
     ]
    }
   ],
   "source": [
    "axis_lock=0\n",
    "MultiProcess.Lock.open_lock(lock_dir,axis_lock,sub_lock_index_list)"
   ]
  },
  {
   "cell_type": "code",
   "execution_count": 14,
   "metadata": {},
   "outputs": [
    {
     "name": "stdout",
     "output_type": "stream",
     "text": [
      "Sucessfullly transfer lock statue from  0  to  1\n"
     ]
    }
   ],
   "source": [
    "axis_lock=0\n",
    "MultiProcess.Lock.transfer_lock_state(lock_dir,axis_lock,sub_lock_index_list)"
   ]
  },
  {
   "cell_type": "code",
   "execution_count": 15,
   "metadata": {},
   "outputs": [
    {
     "name": "stdout",
     "output_type": "stream",
     "text": [
      "Sucessfullly transfer lock statue from  1  to  2\n"
     ]
    }
   ],
   "source": [
    "axis_lock=1\n",
    "MultiProcess.Lock.transfer_lock_state(lock_dir,axis_lock,sub_lock_index_list)"
   ]
  },
  {
   "cell_type": "code",
   "execution_count": 16,
   "metadata": {},
   "outputs": [],
   "source": [
    "MultiProcess.Lock.clear_lock_dir(lock_dir)"
   ]
  }
 ],
 "metadata": {
  "kernelspec": {
   "display_name": "base_191",
   "language": "python",
   "name": "base_191"
  },
  "language_info": {
   "codemirror_mode": {
    "name": "ipython",
    "version": 3
   },
   "file_extension": ".py",
   "mimetype": "text/x-python",
   "name": "python",
   "nbconvert_exporter": "python",
   "pygments_lexer": "ipython3",
   "version": "3.7.4"
  }
 },
 "nbformat": 4,
 "nbformat_minor": 4
}
