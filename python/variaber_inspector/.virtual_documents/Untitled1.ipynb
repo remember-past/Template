import sys
sys.path


import numpy as np


foo ='bar'


b = 3


b=4
print(b)


import ipywidgets as widgets
widgets.IntSlider()


from IPython.display import display
w=widgets.IntSlider()
display(w)


display(w)


widgets.ColorPicker(
    concise=False,
    description='Pick a color',
    value='blue',
    disabled=False
)


def add(a,b):
    return a+b


add(1,2)


add(1,2)


a=1
print(a)


import numpy as np
np.ones(10)


b=np.ones(10)


matrix=np.random.randn(10,1)
