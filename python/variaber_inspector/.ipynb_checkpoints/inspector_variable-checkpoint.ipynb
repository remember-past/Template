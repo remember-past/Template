{
 "cells": [
  {
   "cell_type": "code",
   "execution_count": 1,
   "metadata": {
    "ExecuteTime": {
     "end_time": "2021-04-21T05:35:54.828308Z",
     "start_time": "2021-04-21T05:35:54.820301Z"
    }
   },
   "outputs": [
    {
     "data": {
      "text/plain": [
       "['E:\\\\Users\\\\scfan\\\\program\\\\python\\\\variaber_inspector',\n",
       " 'E:\\\\Users\\\\scfan\\\\software\\\\anaconda3_new\\\\python37.zip',\n",
       " 'E:\\\\Users\\\\scfan\\\\software\\\\anaconda3_new\\\\DLLs',\n",
       " 'E:\\\\Users\\\\scfan\\\\software\\\\anaconda3_new\\\\lib',\n",
       " 'E:\\\\Users\\\\scfan\\\\software\\\\anaconda3_new',\n",
       " '',\n",
       " 'E:\\\\Users\\\\scfan\\\\software\\\\anaconda3_new\\\\lib\\\\site-packages',\n",
       " 'E:\\\\Users\\\\scfan\\\\software\\\\anaconda3_new\\\\lib\\\\site-packages\\\\mstd-2.0-py3.7.egg',\n",
       " 'E:\\\\Users\\\\scfan\\\\software\\\\anaconda3_new\\\\lib\\\\site-packages\\\\circlet-1.0-py3.7.egg',\n",
       " 'E:\\\\Users\\\\scfan\\\\software\\\\anaconda3_new\\\\lib\\\\site-packages\\\\wishbone-3.1.3-py3.7.egg',\n",
       " 'E:\\\\Users\\\\scfan\\\\software\\\\anaconda3_new\\\\lib\\\\site-packages\\\\scalpl-0.4.0-py3.7.egg',\n",
       " 'E:\\\\Users\\\\scfan\\\\software\\\\anaconda3_new\\\\lib\\\\site-packages\\\\easydict-1.9-py3.7.egg',\n",
       " 'E:\\\\Users\\\\scfan\\\\software\\\\anaconda3_new\\\\lib\\\\site-packages\\\\msgpack_python-0.5.6-py3.7-win-amd64.egg',\n",
       " 'E:\\\\Users\\\\scfan\\\\software\\\\anaconda3_new\\\\lib\\\\site-packages\\\\win32',\n",
       " 'E:\\\\Users\\\\scfan\\\\software\\\\anaconda3_new\\\\lib\\\\site-packages\\\\win32\\\\lib',\n",
       " 'E:\\\\Users\\\\scfan\\\\software\\\\anaconda3_new\\\\lib\\\\site-packages\\\\Pythonwin',\n",
       " 'E:\\\\Users\\\\scfan\\\\software\\\\anaconda3_new\\\\lib\\\\site-packages\\\\IPython\\\\extensions',\n",
       " 'C:\\\\Users\\\\scfan\\\\.ipython']"
      ]
     },
     "execution_count": 1,
     "metadata": {},
     "output_type": "execute_result"
    }
   ],
   "source": [
    "import sys\n",
    "sys.path"
   ]
  },
  {
   "cell_type": "code",
   "execution_count": 1,
   "metadata": {
    "ExecuteTime": {
     "end_time": "2021-04-21T05:36:40.646374Z",
     "start_time": "2021-04-21T05:36:40.635365Z"
    }
   },
   "outputs": [
    {
     "data": {
      "text/plain": [
       "['E:\\\\Users\\\\scfan\\\\program\\\\python\\\\variaber_inspector',\n",
       " 'E:\\\\Users\\\\scfan\\\\software\\\\anaconda3_new\\\\python37.zip',\n",
       " 'E:\\\\Users\\\\scfan\\\\software\\\\anaconda3_new\\\\DLLs',\n",
       " 'E:\\\\Users\\\\scfan\\\\software\\\\anaconda3_new\\\\lib',\n",
       " 'E:\\\\Users\\\\scfan\\\\software\\\\anaconda3_new',\n",
       " '',\n",
       " 'E:\\\\Users\\\\scfan\\\\software\\\\anaconda3_new\\\\lib\\\\site-packages',\n",
       " 'E:\\\\Users\\\\scfan\\\\software\\\\anaconda3_new\\\\lib\\\\site-packages\\\\mstd-2.0-py3.7.egg',\n",
       " 'E:\\\\Users\\\\scfan\\\\software\\\\anaconda3_new\\\\lib\\\\site-packages\\\\circlet-1.0-py3.7.egg',\n",
       " 'E:\\\\Users\\\\scfan\\\\software\\\\anaconda3_new\\\\lib\\\\site-packages\\\\wishbone-3.1.3-py3.7.egg',\n",
       " 'E:\\\\Users\\\\scfan\\\\software\\\\anaconda3_new\\\\lib\\\\site-packages\\\\scalpl-0.4.0-py3.7.egg',\n",
       " 'E:\\\\Users\\\\scfan\\\\software\\\\anaconda3_new\\\\lib\\\\site-packages\\\\easydict-1.9-py3.7.egg',\n",
       " 'E:\\\\Users\\\\scfan\\\\software\\\\anaconda3_new\\\\lib\\\\site-packages\\\\msgpack_python-0.5.6-py3.7-win-amd64.egg',\n",
       " 'E:\\\\Users\\\\scfan\\\\software\\\\anaconda3_new\\\\lib\\\\site-packages\\\\win32',\n",
       " 'E:\\\\Users\\\\scfan\\\\software\\\\anaconda3_new\\\\lib\\\\site-packages\\\\win32\\\\lib',\n",
       " 'E:\\\\Users\\\\scfan\\\\software\\\\anaconda3_new\\\\lib\\\\site-packages\\\\Pythonwin',\n",
       " 'E:\\\\Users\\\\scfan\\\\software\\\\anaconda3_new\\\\lib\\\\site-packages\\\\IPython\\\\extensions',\n",
       " 'C:\\\\Users\\\\scfan\\\\.ipython']"
      ]
     },
     "execution_count": 1,
     "metadata": {},
     "output_type": "execute_result"
    }
   ],
   "source": [
    "import sys\n",
    "sys.path"
   ]
  },
  {
   "cell_type": "code",
   "execution_count": 1,
   "metadata": {
    "ExecuteTime": {
     "end_time": "2021-04-21T04:13:43.835508Z",
     "start_time": "2021-04-21T04:13:43.832505Z"
    }
   },
   "outputs": [],
   "source": [
    "import ipywidgets as widgets # Loads the Widget framework.\n",
    "from IPython.core.magics.namespace import NamespaceMagics # Used to query namespace.\n",
    "\n",
    "# For this example, hide these names, just to avoid polluting the namespace further\n",
    "get_ipython().user_ns_hidden['widgets'] = widgets\n",
    "get_ipython().user_ns_hidden['NamespaceMagics'] = NamespaceMagics"
   ]
  },
  {
   "cell_type": "code",
   "execution_count": 2,
   "metadata": {
    "ExecuteTime": {
     "end_time": "2021-04-21T04:13:45.913245Z",
     "start_time": "2021-04-21T04:13:45.905239Z"
    }
   },
   "outputs": [],
   "source": [
    "class VariableInspectorWindow(object):\n",
    "    instance = None\n",
    "    \n",
    "    def __init__(self, ipython):\n",
    "        \"\"\"Public constructor.\"\"\"\n",
    "        if VariableInspectorWindow.instance is not None:\n",
    "            raise Exception(\"\"\"Only one instance of the Variable Inspector can exist at a \n",
    "                time.  Call close() on the active instance before creating a new instance.\n",
    "                If you have lost the handle to the active instance, you can re-obtain it\n",
    "                via `VariableInspectorWindow.instance`.\"\"\")\n",
    "        \n",
    "        VariableInspectorWindow.instance = self\n",
    "        self.closed = False\n",
    "        self.namespace = NamespaceMagics()\n",
    "        self.namespace.shell = ipython.kernel.shell\n",
    "        \n",
    "        self._box = widgets.Box()\n",
    "        self._box.layout.overflow_y = 'scroll'\n",
    "        self._table = widgets.HTML(value = 'Not hooked')\n",
    "        self._box.children = [self._table]\n",
    "        \n",
    "        self._ipython = ipython\n",
    "        self._ipython.events.register('post_run_cell', self._fill)\n",
    "        \n",
    "    def close(self):\n",
    "        \"\"\"Close and remove hooks.\"\"\"\n",
    "        if not self.closed:\n",
    "            self._ipython.events.unregister('post_run_cell', self._fill)\n",
    "            self._box.close()\n",
    "            self.closed = True\n",
    "            VariableInspectorWindow.instance = None\n",
    "\n",
    "    def _fill(self):\n",
    "        \"\"\"Fill self with variable information.\"\"\"\n",
    "        values = self.namespace.who_ls()\n",
    "        self._table.value = '<div class=\"rendered_html jp-RenderedHTMLCommon\"><table><thead><tr><th>Name</th><th>Type</th><th>Value</th></tr></thead><tr><td>' + \\\n",
    "            '</td></tr><tr><td>'.join(['{0}</td><td>{1}</td><td>{2}'.format(v, type(eval(v)).__name__, str(eval(v))) for v in values]) + \\\n",
    "            '</td></tr></table></div>'\n",
    "\n",
    "    def _ipython_display_(self):\n",
    "        \"\"\"Called when display() or pyout is used to display the Variable \n",
    "        Inspector.\"\"\"\n",
    "        self._box._ipython_display_()\n"
   ]
  },
  {
   "cell_type": "code",
   "execution_count": 3,
   "metadata": {
    "ExecuteTime": {
     "end_time": "2021-04-21T04:13:50.405002Z",
     "start_time": "2021-04-21T04:13:50.389989Z"
    }
   },
   "outputs": [
    {
     "data": {
      "application/vnd.jupyter.widget-view+json": {
       "model_id": "d10a99c037464b9cad73bef8fa85885c",
       "version_major": 2,
       "version_minor": 0
      },
      "text/plain": [
       "Box(children=(HTML(value='Not hooked'),), layout=Layout(overflow_y='scroll'))"
      ]
     },
     "metadata": {},
     "output_type": "display_data"
    }
   ],
   "source": [
    "inspector = VariableInspectorWindow(get_ipython())\n",
    "inspector"
   ]
  },
  {
   "cell_type": "code",
   "execution_count": 2,
   "metadata": {
    "ExecuteTime": {
     "end_time": "2021-04-21T04:15:09.960620Z",
     "start_time": "2021-04-21T04:15:09.956617Z"
    }
   },
   "outputs": [],
   "source": [
    "import numpy as np\n",
    "a=np.ones(10000)"
   ]
  },
  {
   "cell_type": "code",
   "execution_count": 3,
   "metadata": {},
   "outputs": [],
   "source": [
    "b=2"
   ]
  },
  {
   "cell_type": "code",
   "execution_count": 1,
   "metadata": {
    "ExecuteTime": {
     "end_time": "2021-04-21T12:37:51.989192Z",
     "start_time": "2021-04-21T12:37:51.987190Z"
    }
   },
   "outputs": [],
   "source": [
    "def add(a,b):\n",
    "    return a+b"
   ]
  },
  {
   "cell_type": "code",
   "execution_count": 2,
   "metadata": {
    "ExecuteTime": {
     "end_time": "2021-04-21T12:38:23.551638Z",
     "start_time": "2021-04-21T12:38:23.543631Z"
    }
   },
   "outputs": [
    {
     "data": {
      "text/plain": [
       "3"
      ]
     },
     "execution_count": 2,
     "metadata": {},
     "output_type": "execute_result"
    }
   ],
   "source": [
    "add(1,2)"
   ]
  },
  {
   "cell_type": "code",
   "execution_count": 4,
   "metadata": {},
   "outputs": [],
   "source": [
    "c=3"
   ]
  },
  {
   "cell_type": "code",
   "execution_count": null,
   "metadata": {},
   "outputs": [],
   "source": []
  }
 ],
 "metadata": {
  "kernelspec": {
   "display_name": "python3_base",
   "language": "python",
   "name": "python3_base"
  },
  "language_info": {
   "codemirror_mode": {
    "name": "ipython",
    "version": 3
   },
   "file_extension": ".py",
   "mimetype": "text/x-python",
   "name": "python",
   "nbconvert_exporter": "python",
   "pygments_lexer": "ipython3",
   "version": "3.7.4"
  },
  "toc": {
   "base_numbering": 1,
   "nav_menu": {},
   "number_sections": true,
   "sideBar": true,
   "skip_h1_title": false,
   "title_cell": "Table of Contents",
   "title_sidebar": "Contents",
   "toc_cell": false,
   "toc_position": {},
   "toc_section_display": true,
   "toc_window_display": true
  },
  "varInspector": {
   "cols": {
    "lenName": 16,
    "lenType": 16,
    "lenVar": 40
   },
   "kernels_config": {
    "python": {
     "delete_cmd_postfix": "",
     "delete_cmd_prefix": "del ",
     "library": "var_list.py",
     "varRefreshCmd": "print(var_dic_list())"
    },
    "r": {
     "delete_cmd_postfix": ") ",
     "delete_cmd_prefix": "rm(",
     "library": "var_list.r",
     "varRefreshCmd": "cat(var_dic_list()) "
    }
   },
   "types_to_exclude": [
    "module",
    "function",
    "builtin_function_or_method",
    "instance",
    "_Feature"
   ],
   "window_display": false
  },
  "widgets": {
   "application/vnd.jupyter.widget-state+json": {
    "state": {},
    "version_major": 2,
    "version_minor": 0
   }
  }
 },
 "nbformat": 4,
 "nbformat_minor": 4
}
