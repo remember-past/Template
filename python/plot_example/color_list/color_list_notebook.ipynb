{
 "cells": [
  {
   "cell_type": "code",
   "execution_count": 7,
   "metadata": {
    "ExecuteTime": {
     "end_time": "2021-06-19T09:11:14.802304Z",
     "start_time": "2021-06-19T09:11:14.711216Z"
    }
   },
   "outputs": [],
   "source": [
    "import os\n",
    "import time\n",
    "from subprocess import  call\n",
    "import numpy as np\n",
    "import pandas as pd\n",
    "import seaborn as sns\n",
    "from scipy import stats\n",
    "import seaborn as sns\n",
    "import matplotlib.pyplot as plt\n",
    "import scipy as sc\n",
    "from matplotlib.colors import ListedColormap\n",
    "import scipy.sparse as sparse\n",
    "import importlib\n",
    "import copy\n",
    "import gc\n",
    "import datetime\n",
    "from scipy.stats import zscore\n",
    "import sys\n",
    "import scipy.stats as st\n",
    "import math\n",
    "from scipy import optimize\n",
    "from tqdm.notebook import tqdm\n",
    "from scipy.spatial.distance import pdist, squareform"
   ]
  },
  {
   "cell_type": "markdown",
   "metadata": {},
   "source": [
    "# 16"
   ]
  },
  {
   "cell_type": "code",
   "execution_count": 14,
   "metadata": {
    "ExecuteTime": {
     "end_time": "2021-06-19T09:13:41.911401Z",
     "start_time": "2021-06-19T09:13:41.775271Z"
    }
   },
   "outputs": [
    {
     "data": {
      "image/png": "[encoded data removed]",
      "text/plain": [
       "<Figure size 576x72 with 1 Axes>"
      ]
     },
     "metadata": {
      "needs_background": "light"
     },
     "output_type": "display_data"
    },
    {
     "data": {
      "image/png": "[encoded data removed]",
      "text/plain": [
       "<Figure size 576x72 with 1 Axes>"
      ]
     },
     "metadata": {
      "needs_background": "light"
     },
     "output_type": "display_data"
    }
   ],
   "source": [
    "sns.palplot(['#317FBA', '#CB2027', '#E5AB22', '#A65627',\n",
    "\n",
    "                  '#3B8C41', '#E48BBB', '#984F9F', '#F26B4D'])\n",
    "sns.palplot(['#76AD75', '#996666', '#E9DC6C', '#7570B3', \n",
    "\n",
    "                  '#00C0F6', '#333396', '#676733', '#ED5B64'])"
   ]
  },
  {
   "cell_type": "markdown",
   "metadata": {},
   "source": [
    "# tab10"
   ]
  },
  {
   "cell_type": "code",
   "execution_count": 25,
   "metadata": {
    "ExecuteTime": {
     "end_time": "2021-06-19T12:06:41.177468Z",
     "start_time": "2021-06-19T12:06:41.101395Z"
    }
   },
   "outputs": [
    {
     "data": {
      "image/png": "[encoded data removed]",
      "text/plain": [
       "<Figure size 720x72 with 1 Axes>"
      ]
     },
     "metadata": {
      "needs_background": "light"
     },
     "output_type": "display_data"
    }
   ],
   "source": [
    "sns.palplot(sns.color_palette('tab10'))"
   ]
  },
  {
   "cell_type": "markdown",
   "metadata": {},
   "source": [
    "# hls"
   ]
  },
  {
   "cell_type": "code",
   "execution_count": 28,
   "metadata": {
    "ExecuteTime": {
     "end_time": "2021-06-22T03:16:50.585520Z",
     "start_time": "2021-06-22T03:16:50.513451Z"
    }
   },
   "outputs": [
    {
     "data": {
      "image/png": "[encoded data removed]",
      "text/plain": [
       "<Figure size 576x72 with 1 Axes>"
      ]
     },
     "metadata": {
      "needs_background": "light"
     },
     "output_type": "display_data"
    }
   ],
   "source": [
    "sns.palplot(sns.color_palette('hls',8))"
   ]
  },
  {
   "cell_type": "code",
   "execution_count": 27,
   "metadata": {
    "ExecuteTime": {
     "end_time": "2021-06-19T12:07:20.020527Z",
     "start_time": "2021-06-19T12:07:19.924434Z"
    }
   },
   "outputs": [
    {
     "data": {
      "image/png": "[encoded data removed]",
      "text/plain": [
       "<Figure size 1152x72 with 1 Axes>"
      ]
     },
     "metadata": {
      "needs_background": "light"
     },
     "output_type": "display_data"
    }
   ],
   "source": [
    "sns.palplot(sns.color_palette('hls',16))"
   ]
  },
  {
   "cell_type": "code",
   "execution_count": 4,
   "metadata": {
    "ExecuteTime": {
     "end_time": "2021-06-19T09:08:36.342918Z",
     "start_time": "2021-06-19T09:08:36.334910Z"
    },
    "scrolled": true
   },
   "outputs": [
    {
     "data": {
      "text/plain": [
       "[(0.19215686274509805, 0.4980392156862745, 0.7294117647058823),\n",
       " (0.796078431372549, 0.12549019607843137, 0.15294117647058825),\n",
       " (0.8980392156862745, 0.6705882352941176, 0.13333333333333333),\n",
       " (0.6509803921568628, 0.33725490196078434, 0.15294117647058825),\n",
       " (0.23137254901960785, 0.5490196078431373, 0.2549019607843137),\n",
       " (0.8941176470588236, 0.5450980392156862, 0.7333333333333333),\n",
       " (0.596078431372549, 0.30980392156862746, 0.6235294117647059),\n",
       " (0.9490196078431372, 0.4196078431372549, 0.30196078431372547)]"
      ]
     },
     "execution_count": 4,
     "metadata": {},
     "output_type": "execute_result"
    },
    {
     "data": {
      "text/plain": [
       "[(0.4627450980392157, 0.6784313725490196, 0.4588235294117647),\n",
       " (0.6, 0.4, 0.4),\n",
       " (0.9137254901960784, 0.8627450980392157, 0.4235294117647059),\n",
       " (0.4588235294117647, 0.4392156862745098, 0.7019607843137254),\n",
       " (0.0, 0.7529411764705882, 0.9647058823529412),\n",
       " (0.2, 0.2, 0.5882352941176471),\n",
       " (0.403921568627451, 0.403921568627451, 0.2),\n",
       " (0.9294117647058824, 0.3568627450980392, 0.39215686274509803)]"
      ]
     },
     "execution_count": 4,
     "metadata": {},
     "output_type": "execute_result"
    }
   ],
   "source": [
    "sns.palettes.color_palette(['#317FBA', '#CB2027', '#E5AB22', '#A65627',\n",
    "\n",
    "                  '#3B8C41', '#E48BBB', '#984F9F', '#F26B4D'])\n",
    "sns.palettes.color_palette(['#76AD75', '#996666', '#E9DC6C', '#7570B3', \n",
    "\n",
    "                  '#00C0F6', '#333396', '#676733', '#ED5B64'])"
   ]
  },
  {
   "cell_type": "markdown",
   "metadata": {},
   "source": [
    "# Greens and Blues 2,3"
   ]
  },
  {
   "cell_type": "code",
   "execution_count": 33,
   "metadata": {
    "ExecuteTime": {
     "end_time": "2021-06-22T03:18:44.015471Z",
     "start_time": "2021-06-22T03:18:43.856320Z"
    }
   },
   "outputs": [
    {
     "data": {
      "image/png": "[encoded data removed]",
      "text/plain": [
       "<Figure size 720x72 with 1 Axes>"
      ]
     },
     "metadata": {
      "needs_background": "light"
     },
     "output_type": "display_data"
    },
    {
     "data": {
      "image/png": "[encoded data removed]",
      "text/plain": [
       "<Figure size 720x72 with 1 Axes>"
      ]
     },
     "metadata": {
      "needs_background": "light"
     },
     "output_type": "display_data"
    }
   ],
   "source": [
    "sns.palplot(sns.color_palette('Greens',10))\n",
    "sns.palplot(sns.color_palette('Blues',10))"
   ]
  },
  {
   "cell_type": "code",
   "execution_count": 40,
   "metadata": {
    "ExecuteTime": {
     "end_time": "2021-06-22T03:22:40.714602Z",
     "start_time": "2021-06-22T03:22:40.605498Z"
    },
    "scrolled": true
   },
   "outputs": [
    {
     "data": {
      "text/plain": [
       "['#62bb6d', '#3fa85b']"
      ]
     },
     "execution_count": 40,
     "metadata": {},
     "output_type": "execute_result"
    },
    {
     "data": {
      "text/plain": [
       "['#5ca4d0', '#3f8fc5', '#2676b8']"
      ]
     },
     "execution_count": 40,
     "metadata": {},
     "output_type": "execute_result"
    },
    {
     "data": {
      "image/png": "[encoded data removed]",
      "text/plain": [
       "<Figure size 144x72 with 1 Axes>"
      ]
     },
     "metadata": {
      "needs_background": "light"
     },
     "output_type": "display_data"
    },
    {
     "data": {
      "image/png": "[encoded data removed]",
      "text/plain": [
       "<Figure size 216x72 with 1 Axes>"
      ]
     },
     "metadata": {
      "needs_background": "light"
     },
     "output_type": "display_data"
    }
   ],
   "source": [
    "sns.palplot(sns.color_palette('Greens',10)[5:7])\n",
    "sns.palplot(sns.color_palette('Blues',10)[5:8])\n",
    "\n",
    "sns.color_palette('Greens',10).as_hex()[5:7]\n",
    "sns.color_palette('Blues',10).as_hex()[5:8]"
   ]
  },
  {
   "cell_type": "code",
   "execution_count": 43,
   "metadata": {
    "ExecuteTime": {
     "end_time": "2021-06-24T16:10:31.581053Z",
     "start_time": "2021-06-24T16:10:31.530004Z"
    }
   },
   "outputs": [
    {
     "data": {
      "text/plain": [
       "['#8a898a']"
      ]
     },
     "execution_count": 43,
     "metadata": {},
     "output_type": "execute_result"
    },
    {
     "data": {
      "image/png": "[encoded data removed]",
      "text/plain": [
       "<Figure size 72x72 with 1 Axes>"
      ]
     },
     "metadata": {
      "needs_background": "light"
     },
     "output_type": "display_data"
    }
   ],
   "source": [
    "values=[(138/255,137/255,138/255)]\n",
    "sns.palplot(values)\n",
    "sns.color_palette(values).as_hex()"
   ]
  }
 ],
 "metadata": {
  "kernelspec": {
   "display_name": "Python 3",
   "language": "python",
   "name": "python3"
  },
  "language_info": {
   "codemirror_mode": {
    "name": "ipython",
    "version": 3
   },
   "file_extension": ".py",
   "mimetype": "text/x-python",
   "name": "python",
   "nbconvert_exporter": "python",
   "pygments_lexer": "ipython3",
   "version": "3.8.3"
  },
  "toc": {
   "base_numbering": 1,
   "nav_menu": {},
   "number_sections": true,
   "sideBar": true,
   "skip_h1_title": false,
   "title_cell": "Table of Contents",
   "title_sidebar": "Contents",
   "toc_cell": false,
   "toc_position": {},
   "toc_section_display": true,
   "toc_window_display": true
  }
 },
 "nbformat": 4,
 "nbformat_minor": 4
}
