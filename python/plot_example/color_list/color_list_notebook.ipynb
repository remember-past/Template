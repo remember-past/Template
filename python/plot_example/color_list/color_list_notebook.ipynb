{
 "cells": [
  {
   "cell_type": "code",
   "execution_count": 2,
   "metadata": {
    "ExecuteTime": {
     "end_time": "2022-04-08T08:39:48.560127Z",
     "start_time": "2022-04-08T08:39:45.453466Z"
    }
   },
   "outputs": [
    {
     "name": "stderr",
     "output_type": "stream",
     "text": [
      "In E:\\Users\\scfan\\software\\anaconda3_new\\lib\\site-packages\\matplotlib\\mpl-data\\stylelib\\_classic_test.mplstyle: \n",
      "The text.latex.preview rcparam was deprecated in Matplotlib 3.3 and will be removed two minor releases later.\n",
      "In E:\\Users\\scfan\\software\\anaconda3_new\\lib\\site-packages\\matplotlib\\mpl-data\\stylelib\\_classic_test.mplstyle: \n",
      "The mathtext.fallback_to_cm rcparam was deprecated in Matplotlib 3.3 and will be removed two minor releases later.\n",
      "In E:\\Users\\scfan\\software\\anaconda3_new\\lib\\site-packages\\matplotlib\\mpl-data\\stylelib\\_classic_test.mplstyle: Support for setting the 'mathtext.fallback_to_cm' rcParam is deprecated since 3.3 and will be removed two minor releases later; use 'mathtext.fallback : 'cm' instead.\n",
      "In E:\\Users\\scfan\\software\\anaconda3_new\\lib\\site-packages\\matplotlib\\mpl-data\\stylelib\\_classic_test.mplstyle: \n",
      "The validate_bool_maybe_none function was deprecated in Matplotlib 3.3 and will be removed two minor releases later.\n",
      "In E:\\Users\\scfan\\software\\anaconda3_new\\lib\\site-packages\\matplotlib\\mpl-data\\stylelib\\_classic_test.mplstyle: \n",
      "The savefig.jpeg_quality rcparam was deprecated in Matplotlib 3.3 and will be removed two minor releases later.\n",
      "In E:\\Users\\scfan\\software\\anaconda3_new\\lib\\site-packages\\matplotlib\\mpl-data\\stylelib\\_classic_test.mplstyle: \n",
      "The keymap.all_axes rcparam was deprecated in Matplotlib 3.3 and will be removed two minor releases later.\n",
      "In E:\\Users\\scfan\\software\\anaconda3_new\\lib\\site-packages\\matplotlib\\mpl-data\\stylelib\\_classic_test.mplstyle: \n",
      "The animation.avconv_path rcparam was deprecated in Matplotlib 3.3 and will be removed two minor releases later.\n",
      "In E:\\Users\\scfan\\software\\anaconda3_new\\lib\\site-packages\\matplotlib\\mpl-data\\stylelib\\_classic_test.mplstyle: \n",
      "The animation.avconv_args rcparam was deprecated in Matplotlib 3.3 and will be removed two minor releases later.\n"
     ]
    }
   ],
   "source": [
    "import os\n",
    "import time\n",
    "from subprocess import  call\n",
    "import numpy as np\n",
    "import pandas as pd\n",
    "import seaborn as sns\n",
    "from scipy import stats\n",
    "import seaborn as sns\n",
    "import matplotlib.pyplot as plt\n",
    "import scipy as sc\n",
    "from matplotlib.colors import ListedColormap\n",
    "import scipy.sparse as sparse\n",
    "import importlib\n",
    "import copy\n",
    "import gc\n",
    "import datetime\n",
    "from scipy.stats import zscore\n",
    "import sys\n",
    "import scipy.stats as st\n",
    "import math\n",
    "from scipy import optimize\n",
    "from tqdm.notebook import tqdm\n",
    "from scipy.spatial.distance import pdist, squareform"
   ]
  },
  {
   "cell_type": "markdown",
   "metadata": {},
   "source": [
    "# 16"
   ]
  },
  {
   "cell_type": "code",
   "execution_count": 2,
   "metadata": {
    "ExecuteTime": {
     "end_time": "2021-07-05T09:08:48.426281Z",
     "start_time": "2021-07-05T09:08:48.249908Z"
    }
   },
   "outputs": [
    {
     "data": {
      "image/png": "[encoded data removed]",
      "text/plain": [
       "<Figure size 576x72 with 1 Axes>"
      ]
     },
     "metadata": {
      "needs_background": "light"
     },
     "output_type": "display_data"
    },
    {
     "data": {
      "image/png": "[encoded data removed]",
      "text/plain": [
       "<Figure size 576x72 with 1 Axes>"
      ]
     },
     "metadata": {
      "needs_background": "light"
     },
     "output_type": "display_data"
    }
   ],
   "source": [
    "sns.palplot(['#317FBA', '#CB2027', '#E5AB22', '#A65627',\n",
    "\n",
    "                  '#3B8C41', '#E48BBB', '#984F9F', '#F26B4D'])\n",
    "sns.palplot(['#76AD75', '#996666', '#E9DC6C', '#7570B3', \n",
    "\n",
    "                  '#00C0F6', '#333396', '#676733', '#ED5B64'])"
   ]
  },
  {
   "cell_type": "code",
   "execution_count": 2,
   "metadata": {
    "ExecuteTime": {
     "end_time": "2021-08-20T05:35:25.719628Z",
     "start_time": "2021-08-20T05:35:25.662580Z"
    }
   },
   "outputs": [
    {
     "data": {
      "image/png": "[encoded data removed]",
      "text/plain": [
       "<Figure size 576x72 with 1 Axes>"
      ]
     },
     "metadata": {
      "needs_background": "light"
     },
     "output_type": "display_data"
    }
   ],
   "source": [
    "use_palette=['#62bb6d', '#5ca4d0','#f7764a','#CB2027','#E5AB22','#984F9F','#676733','#996666','#333396']\n",
    "sns.palplot(use_palette)"
   ]
  },
  {
   "cell_type": "markdown",
   "metadata": {},
   "source": [
    "# tab10"
   ]
  },
  {
   "cell_type": "code",
   "execution_count": 3,
   "metadata": {
    "ExecuteTime": {
     "end_time": "2021-07-05T09:08:48.504356Z",
     "start_time": "2021-07-05T09:08:48.428283Z"
    }
   },
   "outputs": [
    {
     "data": {
      "image/png": "[encoded data removed]",
      "text/plain": [
       "<Figure size 720x72 with 1 Axes>"
      ]
     },
     "metadata": {
      "needs_background": "light"
     },
     "output_type": "display_data"
    }
   ],
   "source": [
    "sns.palplot(sns.color_palette('tab10'))"
   ]
  },
  {
   "cell_type": "markdown",
   "metadata": {},
   "source": [
    "# default sns color palette"
   ]
  },
  {
   "cell_type": "code",
   "execution_count": 82,
   "metadata": {},
   "outputs": [
    {
     "data": {
      "text/html": [
       "<svg  width=\"550\" height=\"55\"><rect x=\"0\" y=\"0\" width=\"55\" height=\"55\" style=\"fill:#1f77b4;stroke-width:2;stroke:rgb(255,255,255)\"/><rect x=\"55\" y=\"0\" width=\"55\" height=\"55\" style=\"fill:#ff7f0e;stroke-width:2;stroke:rgb(255,255,255)\"/><rect x=\"110\" y=\"0\" width=\"55\" height=\"55\" style=\"fill:#2ca02c;stroke-width:2;stroke:rgb(255,255,255)\"/><rect x=\"165\" y=\"0\" width=\"55\" height=\"55\" style=\"fill:#d62728;stroke-width:2;stroke:rgb(255,255,255)\"/><rect x=\"220\" y=\"0\" width=\"55\" height=\"55\" style=\"fill:#9467bd;stroke-width:2;stroke:rgb(255,255,255)\"/><rect x=\"275\" y=\"0\" width=\"55\" height=\"55\" style=\"fill:#8c564b;stroke-width:2;stroke:rgb(255,255,255)\"/><rect x=\"330\" y=\"0\" width=\"55\" height=\"55\" style=\"fill:#e377c2;stroke-width:2;stroke:rgb(255,255,255)\"/><rect x=\"385\" y=\"0\" width=\"55\" height=\"55\" style=\"fill:#7f7f7f;stroke-width:2;stroke:rgb(255,255,255)\"/><rect x=\"440\" y=\"0\" width=\"55\" height=\"55\" style=\"fill:#bcbd22;stroke-width:2;stroke:rgb(255,255,255)\"/><rect x=\"495\" y=\"0\" width=\"55\" height=\"55\" style=\"fill:#17becf;stroke-width:2;stroke:rgb(255,255,255)\"/></svg>"
      ],
      "text/plain": [
       "[(0.12156862745098039, 0.4666666666666667, 0.7058823529411765),\n",
       " (1.0, 0.4980392156862745, 0.054901960784313725),\n",
       " (0.17254901960784313, 0.6274509803921569, 0.17254901960784313),\n",
       " (0.8392156862745098, 0.15294117647058825, 0.1568627450980392),\n",
       " (0.5803921568627451, 0.403921568627451, 0.7411764705882353),\n",
       " (0.5490196078431373, 0.33725490196078434, 0.29411764705882354),\n",
       " (0.8901960784313725, 0.4666666666666667, 0.7607843137254902),\n",
       " (0.4980392156862745, 0.4980392156862745, 0.4980392156862745),\n",
       " (0.7372549019607844, 0.7411764705882353, 0.13333333333333333),\n",
       " (0.09019607843137255, 0.7450980392156863, 0.8117647058823529)]"
      ]
     },
     "execution_count": 82,
     "metadata": {},
     "output_type": "execute_result"
    }
   ],
   "source": [
    "sns.color_palette()"
   ]
  },
  {
   "cell_type": "code",
   "execution_count": 94,
   "metadata": {},
   "outputs": [
    {
     "data": {
      "text/plain": [
       "(1.0, 0.4980392156862745, 0.054901960784313725)"
      ]
     },
     "execution_count": 94,
     "metadata": {},
     "output_type": "execute_result"
    },
    {
     "name": "stdout",
     "output_type": "stream",
     "text": [
      "['#ff7f0e']\n"
     ]
    }
   ],
   "source": [
    "sns.color_palette()[1]\n",
    "print(sns.color_palette([sns.color_palette()[1]]).as_hex())"
   ]
  },
  {
   "cell_type": "markdown",
   "metadata": {},
   "source": [
    "# hls"
   ]
  },
  {
   "cell_type": "code",
   "execution_count": 4,
   "metadata": {
    "ExecuteTime": {
     "end_time": "2021-07-05T09:08:48.575424Z",
     "start_time": "2021-07-05T09:08:48.506358Z"
    }
   },
   "outputs": [
    {
     "data": {
      "image/png": "[encoded data removed]",
      "text/plain": [
       "<Figure size 576x72 with 1 Axes>"
      ]
     },
     "metadata": {
      "needs_background": "light"
     },
     "output_type": "display_data"
    }
   ],
   "source": [
    "sns.palplot(sns.color_palette('hls',8))"
   ]
  },
  {
   "cell_type": "code",
   "execution_count": 14,
   "metadata": {
    "ExecuteTime": {
     "end_time": "2021-07-08T15:38:02.165312Z",
     "start_time": "2021-07-08T15:38:02.068219Z"
    }
   },
   "outputs": [
    {
     "data": {
      "image/png": "[encoded data removed]",
      "text/plain": [
       "<Figure size 1152x72 with 1 Axes>"
      ]
     },
     "metadata": {
      "needs_background": "light"
     },
     "output_type": "display_data"
    }
   ],
   "source": [
    "sns.palplot(sns.color_palette('bright',16))"
   ]
  },
  {
   "cell_type": "code",
   "execution_count": 21,
   "metadata": {
    "ExecuteTime": {
     "end_time": "2021-07-08T15:40:24.469928Z",
     "start_time": "2021-07-08T15:40:24.361825Z"
    }
   },
   "outputs": [
    {
     "data": {
      "image/png": "[encoded data removed]",
      "text/plain": [
       "<Figure size 1440x72 with 1 Axes>"
      ]
     },
     "metadata": {
      "needs_background": "light"
     },
     "output_type": "display_data"
    }
   ],
   "source": [
    "sns.palplot(sns.color_palette('Set3',20))"
   ]
  },
  {
   "cell_type": "code",
   "execution_count": 22,
   "metadata": {
    "ExecuteTime": {
     "end_time": "2021-07-08T15:41:00.815939Z",
     "start_time": "2021-07-08T15:41:00.809934Z"
    }
   },
   "outputs": [
    {
     "data": {
      "text/plain": [
       "[(0.5529411764705883, 0.8274509803921568, 0.7803921568627451),\n",
       " (1.0, 1.0, 0.7019607843137254),\n",
       " (0.7450980392156863, 0.7294117647058823, 0.8549019607843137),\n",
       " (0.984313725490196, 0.5019607843137255, 0.4470588235294118),\n",
       " (0.5019607843137255, 0.6941176470588235, 0.8274509803921568),\n",
       " (0.9921568627450981, 0.7058823529411765, 0.3843137254901961),\n",
       " (0.7019607843137254, 0.8705882352941177, 0.4117647058823529),\n",
       " (0.9882352941176471, 0.803921568627451, 0.8980392156862745),\n",
       " (0.8509803921568627, 0.8509803921568627, 0.8509803921568627),\n",
       " (0.7372549019607844, 0.5019607843137255, 0.7411764705882353),\n",
       " (0.8, 0.9215686274509803, 0.7725490196078432),\n",
       " (1.0, 0.9294117647058824, 0.43529411764705883),\n",
       " (0.5529411764705883, 0.8274509803921568, 0.7803921568627451),\n",
       " (1.0, 1.0, 0.7019607843137254),\n",
       " (0.7450980392156863, 0.7294117647058823, 0.8549019607843137),\n",
       " (0.984313725490196, 0.5019607843137255, 0.4470588235294118),\n",
       " (0.5019607843137255, 0.6941176470588235, 0.8274509803921568),\n",
       " (0.9921568627450981, 0.7058823529411765, 0.3843137254901961),\n",
       " (0.7019607843137254, 0.8705882352941177, 0.4117647058823529),\n",
       " (0.9882352941176471, 0.803921568627451, 0.8980392156862745)]"
      ]
     },
     "execution_count": 22,
     "metadata": {},
     "output_type": "execute_result"
    }
   ],
   "source": [
    "sns.color_palette('Set3',20)"
   ]
  },
  {
   "cell_type": "code",
   "execution_count": 6,
   "metadata": {
    "ExecuteTime": {
     "end_time": "2021-07-05T09:08:48.681525Z",
     "start_time": "2021-07-05T09:08:48.673518Z"
    },
    "scrolled": true
   },
   "outputs": [
    {
     "data": {
      "text/plain": [
       "[(0.19215686274509805, 0.4980392156862745, 0.7294117647058823),\n",
       " (0.796078431372549, 0.12549019607843137, 0.15294117647058825),\n",
       " (0.8980392156862745, 0.6705882352941176, 0.13333333333333333),\n",
       " (0.6509803921568628, 0.33725490196078434, 0.15294117647058825),\n",
       " (0.23137254901960785, 0.5490196078431373, 0.2549019607843137),\n",
       " (0.8941176470588236, 0.5450980392156862, 0.7333333333333333),\n",
       " (0.596078431372549, 0.30980392156862746, 0.6235294117647059),\n",
       " (0.9490196078431372, 0.4196078431372549, 0.30196078431372547)]"
      ]
     },
     "execution_count": 6,
     "metadata": {},
     "output_type": "execute_result"
    },
    {
     "data": {
      "text/plain": [
       "[(0.4627450980392157, 0.6784313725490196, 0.4588235294117647),\n",
       " (0.6, 0.4, 0.4),\n",
       " (0.9137254901960784, 0.8627450980392157, 0.4235294117647059),\n",
       " (0.4588235294117647, 0.4392156862745098, 0.7019607843137254),\n",
       " (0.0, 0.7529411764705882, 0.9647058823529412),\n",
       " (0.2, 0.2, 0.5882352941176471),\n",
       " (0.403921568627451, 0.403921568627451, 0.2),\n",
       " (0.9294117647058824, 0.3568627450980392, 0.39215686274509803)]"
      ]
     },
     "execution_count": 6,
     "metadata": {},
     "output_type": "execute_result"
    }
   ],
   "source": [
    "sns.palettes.color_palette(['#317FBA', '#CB2027', '#E5AB22', '#A65627',\n",
    "\n",
    "                  '#3B8C41', '#E48BBB', '#984F9F', '#F26B4D'])\n",
    "sns.palettes.color_palette(['#76AD75', '#996666', '#E9DC6C', '#7570B3', \n",
    "\n",
    "                  '#00C0F6', '#333396', '#676733', '#ED5B64'])"
   ]
  },
  {
   "cell_type": "markdown",
   "metadata": {},
   "source": [
    "# Greens and Blues 2,3"
   ]
  },
  {
   "cell_type": "code",
   "execution_count": 7,
   "metadata": {
    "ExecuteTime": {
     "end_time": "2021-07-05T09:08:48.833671Z",
     "start_time": "2021-07-05T09:08:48.682526Z"
    }
   },
   "outputs": [
    {
     "data": {
      "image/png": "[encoded data removed]",
      "text/plain": [
       "<Figure size 720x72 with 1 Axes>"
      ]
     },
     "metadata": {
      "needs_background": "light"
     },
     "output_type": "display_data"
    },
    {
     "data": {
      "image/png": "[encoded data removed]",
      "text/plain": [
       "<Figure size 720x72 with 1 Axes>"
      ]
     },
     "metadata": {
      "needs_background": "light"
     },
     "output_type": "display_data"
    }
   ],
   "source": [
    "sns.palplot(sns.color_palette('Greens',10))\n",
    "sns.palplot(sns.color_palette('Blues',10))"
   ]
  },
  {
   "cell_type": "code",
   "execution_count": 8,
   "metadata": {
    "ExecuteTime": {
     "end_time": "2021-07-05T09:08:48.941775Z",
     "start_time": "2021-07-05T09:08:48.835673Z"
    },
    "scrolled": true
   },
   "outputs": [
    {
     "data": {
      "text/plain": [
       "['#62bb6d', '#3fa85b']"
      ]
     },
     "execution_count": 8,
     "metadata": {},
     "output_type": "execute_result"
    },
    {
     "data": {
      "text/plain": [
       "['#5ca4d0', '#3f8fc5', '#2676b8']"
      ]
     },
     "execution_count": 8,
     "metadata": {},
     "output_type": "execute_result"
    },
    {
     "data": {
      "image/png": "[encoded data removed]",
      "text/plain": [
       "<Figure size 144x72 with 1 Axes>"
      ]
     },
     "metadata": {
      "needs_background": "light"
     },
     "output_type": "display_data"
    },
    {
     "data": {
      "image/png": "[encoded data removed]",
      "text/plain": [
       "<Figure size 216x72 with 1 Axes>"
      ]
     },
     "metadata": {
      "needs_background": "light"
     },
     "output_type": "display_data"
    }
   ],
   "source": [
    "sns.palplot(sns.color_palette('Greens',10)[5:7])\n",
    "sns.palplot(sns.color_palette('Blues',10)[5:8])\n",
    "\n",
    "sns.color_palette('Greens',10).as_hex()[5:7]\n",
    "sns.color_palette('Blues',10).as_hex()[5:8]"
   ]
  },
  {
   "cell_type": "code",
   "execution_count": 22,
   "metadata": {
    "ExecuteTime": {
     "end_time": "2021-07-05T09:08:48.992824Z",
     "start_time": "2021-07-05T09:08:48.942776Z"
    }
   },
   "outputs": [
    {
     "name": "stdout",
     "output_type": "stream",
     "text": [
      "['#8a898a']\n"
     ]
    },
    {
     "data": {
      "image/png": "[encoded data removed]",
      "text/plain": [
       "<Figure size 72x72 with 1 Axes>"
      ]
     },
     "metadata": {
      "needs_background": "light"
     },
     "output_type": "display_data"
    }
   ],
   "source": [
    "values=[(138/255,137/255,138/255)]\n",
    "sns.palplot(values)\n",
    "print(sns.color_palette(values).as_hex())"
   ]
  },
  {
   "cell_type": "code",
   "execution_count": 28,
   "metadata": {},
   "outputs": [
    {
     "name": "stdout",
     "output_type": "stream",
     "text": [
      "['#a7744e']\n",
      "[(0.6549019607843137, 0.4549019607843137, 0.3058823529411765)]\n"
     ]
    },
    {
     "data": {
      "image/png": "[encoded data removed]",
      "text/plain": [
       "<Figure size 72x72 with 1 Axes>"
      ]
     },
     "metadata": {
      "needs_background": "light"
     },
     "output_type": "display_data"
    }
   ],
   "source": [
    "values=[(167/255,116/255,78/255)]\n",
    "sns.palplot(values)\n",
    "print(sns.color_palette(values).as_hex())\n",
    "print(sns.color_palette(values))"
   ]
  },
  {
   "cell_type": "code",
   "execution_count": 24,
   "metadata": {
    "ExecuteTime": {
     "end_time": "2021-07-13T14:43:37.165307Z",
     "start_time": "2021-07-13T14:43:37.114258Z"
    }
   },
   "outputs": [
    {
     "data": {
      "text/plain": [
       "['#000000']"
      ]
     },
     "execution_count": 24,
     "metadata": {},
     "output_type": "execute_result"
    },
    {
     "data": {
      "image/png": "[encoded data removed]",
      "text/plain": [
       "<Figure size 72x72 with 1 Axes>"
      ]
     },
     "metadata": {
      "needs_background": "light"
     },
     "output_type": "display_data"
    }
   ],
   "source": [
    "values=[(0/255,0/255,0/255)]\n",
    "sns.palplot(values)\n",
    "sns.color_palette(values).as_hex()"
   ]
  },
  {
   "cell_type": "code",
   "execution_count": 92,
   "metadata": {},
   "outputs": [
    {
     "name": "stdout",
     "output_type": "stream",
     "text": [
      "['#a7744e']\n"
     ]
    },
    {
     "data": {
      "image/png": "[encoded data removed]",
      "text/plain": [
       "<Figure size 72x72 with 1 Axes>"
      ]
     },
     "metadata": {
      "needs_background": "light"
     },
     "output_type": "display_data"
    }
   ],
   "source": [
    "sns.palplot(values)\n",
    "print(sns.color_palette(values).as_hex())"
   ]
  },
  {
   "cell_type": "code",
   "execution_count": 11,
   "metadata": {
    "ExecuteTime": {
     "end_time": "2021-07-05T09:09:57.022087Z",
     "start_time": "2021-07-05T09:09:56.922106Z"
    }
   },
   "outputs": [
    {
     "data": {
      "image/png": "[encoded data removed]",
      "text/plain": [
       "<Figure size 72x72 with 1 Axes>"
      ]
     },
     "metadata": {
      "needs_background": "light"
     },
     "output_type": "display_data"
    },
    {
     "data": {
      "image/png": "[encoded data removed]",
      "text/plain": [
       "<Figure size 72x72 with 1 Axes>"
      ]
     },
     "metadata": {
      "needs_background": "light"
     },
     "output_type": "display_data"
    }
   ],
   "source": [
    "sns.palplot(['#f7764a'])\n",
    "sns.palplot(['#ff6633'])"
   ]
  },
  {
   "cell_type": "markdown",
   "metadata": {},
   "source": [
    "# minic cai color"
   ]
  },
  {
   "cell_type": "code",
   "execution_count": 6,
   "metadata": {
    "ExecuteTime": {
     "end_time": "2021-12-15T10:25:12.847983Z",
     "start_time": "2021-12-15T10:25:12.780928Z"
    }
   },
   "outputs": [
    {
     "name": "stdout",
     "output_type": "stream",
     "text": [
      "['#686a96', '#cf90bf', '#8fbdd9', '#d3e2f0', '#d9878d', '#e8c77e', '#95cb96', '#f5a66e', '#cecece']\n"
     ]
    },
    {
     "data": {
      "image/png": "[encoded data removed]",
      "text/plain": [
       "<Figure size 648x72 with 1 Axes>"
      ]
     },
     "metadata": {
      "needs_background": "light"
     },
     "output_type": "display_data"
    }
   ],
   "source": [
    "values=[(104/255,106/255,150/255),(207/255,144/255,191/255),(143/255,189/255,217/255),(211/255,226/255,240/255),\n",
    "       (217/255,135/255,141/255),(232/255,199/255,126/255),(149/255,203/255,150/255),(245/255,166/255,110/255),\n",
    "       (206/255,206/255,206/255)]\n",
    "sns.palplot(values)\n",
    "print(sns.color_palette(values).as_hex())"
   ]
  },
  {
   "cell_type": "markdown",
   "metadata": {},
   "source": [
    "# Creating color maps"
   ]
  },
  {
   "cell_type": "code",
   "execution_count": 3,
   "metadata": {},
   "outputs": [],
   "source": [
    "import numpy as np\n",
    "import matplotlib.pyplot as plt\n",
    "from matplotlib import cm\n",
    "from matplotlib.colors import ListedColormap, LinearSegmentedColormap\n",
    "\n",
    "viridis = cm.get_cmap('viridis', 8)"
   ]
  },
  {
   "cell_type": "code",
   "execution_count": 4,
   "metadata": {},
   "outputs": [
    {
     "data": {
      "text/plain": [
       "<matplotlib.colors.ListedColormap at 0x6ff7ea9f88>"
      ]
     },
     "execution_count": 4,
     "metadata": {},
     "output_type": "execute_result"
    }
   ],
   "source": [
    "viridis"
   ]
  },
  {
   "cell_type": "code",
   "execution_count": 5,
   "metadata": {},
   "outputs": [
    {
     "name": "stdout",
     "output_type": "stream",
     "text": [
      "(0.122312, 0.633153, 0.530398, 1.0)\n"
     ]
    }
   ],
   "source": [
    "print(viridis(0.56))"
   ]
  },
  {
   "cell_type": "code",
   "execution_count": 8,
   "metadata": {},
   "outputs": [
    {
     "name": "stdout",
     "output_type": "stream",
     "text": [
      "viridis.colors [[0.267004 0.004874 0.329415 1.      ]\n",
      " [0.275191 0.194905 0.496005 1.      ]\n",
      " [0.212395 0.359683 0.55171  1.      ]\n",
      " [0.153364 0.497    0.557724 1.      ]\n",
      " [0.122312 0.633153 0.530398 1.      ]\n",
      " [0.288921 0.758394 0.428426 1.      ]\n",
      " [0.626579 0.854645 0.223353 1.      ]\n",
      " [0.993248 0.906157 0.143936 1.      ]]\n",
      "viridis(range(8)) [[0.267004 0.004874 0.329415 1.      ]\n",
      " [0.275191 0.194905 0.496005 1.      ]\n",
      " [0.212395 0.359683 0.55171  1.      ]\n",
      " [0.153364 0.497    0.557724 1.      ]\n",
      " [0.122312 0.633153 0.530398 1.      ]\n",
      " [0.288921 0.758394 0.428426 1.      ]\n",
      " [0.626579 0.854645 0.223353 1.      ]\n",
      " [0.993248 0.906157 0.143936 1.      ]]\n",
      "viridis(np.linspace(0, 1, 8)) [[0.267004 0.004874 0.329415 1.      ]\n",
      " [0.275191 0.194905 0.496005 1.      ]\n",
      " [0.212395 0.359683 0.55171  1.      ]\n",
      " [0.153364 0.497    0.557724 1.      ]\n",
      " [0.122312 0.633153 0.530398 1.      ]\n",
      " [0.288921 0.758394 0.428426 1.      ]\n",
      " [0.626579 0.854645 0.223353 1.      ]\n",
      " [0.993248 0.906157 0.143936 1.      ]]\n",
      "viridis(np.linspace(0, 1, 12)) [[0.267004 0.004874 0.329415 1.      ]\n",
      " [0.267004 0.004874 0.329415 1.      ]\n",
      " [0.275191 0.194905 0.496005 1.      ]\n",
      " [0.212395 0.359683 0.55171  1.      ]\n",
      " [0.212395 0.359683 0.55171  1.      ]\n",
      " [0.153364 0.497    0.557724 1.      ]\n",
      " [0.122312 0.633153 0.530398 1.      ]\n",
      " [0.288921 0.758394 0.428426 1.      ]\n",
      " [0.288921 0.758394 0.428426 1.      ]\n",
      " [0.626579 0.854645 0.223353 1.      ]\n",
      " [0.993248 0.906157 0.143936 1.      ]\n",
      " [0.993248 0.906157 0.143936 1.      ]]\n"
     ]
    }
   ],
   "source": [
    "print('viridis.colors', viridis.colors)\n",
    "print('viridis(range(8))', viridis(range(8)))\n",
    "print('viridis(np.linspace(0, 1, 8))', viridis(np.linspace(0, 1, 8)))\n",
    "print('viridis(np.linspace(0, 1, 12))', viridis(np.linspace(0, 1, 12)))"
   ]
  },
  {
   "cell_type": "code",
   "execution_count": 9,
   "metadata": {},
   "outputs": [
    {
     "name": "stdout",
     "output_type": "stream",
     "text": [
      "copper(range(8)) [[0.         0.         0.         1.        ]\n",
      " [0.17647055 0.1116     0.07107143 1.        ]\n",
      " [0.35294109 0.2232     0.14214286 1.        ]\n",
      " [0.52941164 0.3348     0.21321429 1.        ]\n",
      " [0.70588219 0.4464     0.28428571 1.        ]\n",
      " [0.88235273 0.558      0.35535714 1.        ]\n",
      " [1.         0.6696     0.42642857 1.        ]\n",
      " [1.         0.7812     0.4975     1.        ]]\n",
      "copper(np.linspace(0, 1, 8)) [[0.         0.         0.         1.        ]\n",
      " [0.17647055 0.1116     0.07107143 1.        ]\n",
      " [0.35294109 0.2232     0.14214286 1.        ]\n",
      " [0.52941164 0.3348     0.21321429 1.        ]\n",
      " [0.70588219 0.4464     0.28428571 1.        ]\n",
      " [0.88235273 0.558      0.35535714 1.        ]\n",
      " [1.         0.6696     0.42642857 1.        ]\n",
      " [1.         0.7812     0.4975     1.        ]]\n",
      "copper(np.linspace(0, 1, 8)) [[0.         0.         0.         1.        ]\n",
      " [0.         0.         0.         1.        ]\n",
      " [0.17647055 0.1116     0.07107143 1.        ]\n",
      " [0.35294109 0.2232     0.14214286 1.        ]\n",
      " [0.35294109 0.2232     0.14214286 1.        ]\n",
      " [0.52941164 0.3348     0.21321429 1.        ]\n",
      " [0.70588219 0.4464     0.28428571 1.        ]\n",
      " [0.88235273 0.558      0.35535714 1.        ]\n",
      " [0.88235273 0.558      0.35535714 1.        ]\n",
      " [1.         0.6696     0.42642857 1.        ]\n",
      " [1.         0.7812     0.4975     1.        ]\n",
      " [1.         0.7812     0.4975     1.        ]]\n"
     ]
    }
   ],
   "source": [
    "copper = cm.get_cmap('copper', 8)\n",
    "\n",
    "print('copper(range(8))', copper(range(8)))\n",
    "print('copper(np.linspace(0, 1, 8))', copper(np.linspace(0, 1, 8)))\n",
    "print('copper(np.linspace(0, 1, 8))', copper(np.linspace(0, 1, 12)))"
   ]
  },
  {
   "cell_type": "code",
   "execution_count": 10,
   "metadata": {},
   "outputs": [],
   "source": [
    "def plot_examples(colormaps):\n",
    "    \"\"\"\n",
    "    Helper function to plot data with associated colormap.\n",
    "    \"\"\"\n",
    "    np.random.seed(19680801)\n",
    "    data = np.random.randn(30, 30)\n",
    "    n = len(colormaps)\n",
    "    fig, axs = plt.subplots(1, n, figsize=(n * 2 + 2, 3),\n",
    "                            constrained_layout=True, squeeze=False)\n",
    "    for [ax, cmap] in zip(axs.flat, colormaps):\n",
    "        psm = ax.pcolormesh(data, cmap=cmap, rasterized=True, vmin=-4, vmax=4)\n",
    "        fig.colorbar(psm, ax=ax)\n",
    "    plt.show()"
   ]
  },
  {
   "cell_type": "code",
   "execution_count": 11,
   "metadata": {},
   "outputs": [
    {
     "data": {
      "image/png": "[encoded data removed]",
      "text/plain": [
       "<Figure size 288x216 with 2 Axes>"
      ]
     },
     "metadata": {
      "needs_background": "light"
     },
     "output_type": "display_data"
    }
   ],
   "source": [
    "cmap = ListedColormap([\"darkorange\", \"gold\", \"lawngreen\", \"lightseagreen\"])\n",
    "plot_examples([cmap])"
   ]
  },
  {
   "cell_type": "code",
   "execution_count": 12,
   "metadata": {},
   "outputs": [
    {
     "data": {
      "image/png": "[encoded data removed]",
      "text/plain": [
       "<Figure size 432x216 with 4 Axes>"
      ]
     },
     "metadata": {
      "needs_background": "light"
     },
     "output_type": "display_data"
    }
   ],
   "source": [
    "viridis = cm.get_cmap('viridis', 256)\n",
    "newcolors = viridis(np.linspace(0, 1, 256))\n",
    "pink = np.array([248/256, 24/256, 148/256, 1])\n",
    "newcolors[:25, :] = pink\n",
    "newcmp = ListedColormap(newcolors)\n",
    "\n",
    "plot_examples([viridis, newcmp])"
   ]
  },
  {
   "cell_type": "code",
   "execution_count": 24,
   "metadata": {},
   "outputs": [
    {
     "data": {
      "text/plain": [
       "array([[0.267004, 0.004874, 0.329415, 1.      ],\n",
       "       [0.993248, 0.906157, 0.143936, 1.      ]])"
      ]
     },
     "execution_count": 24,
     "metadata": {},
     "output_type": "execute_result"
    }
   ],
   "source": [
    "newcolors"
   ]
  },
  {
   "cell_type": "code",
   "execution_count": 20,
   "metadata": {},
   "outputs": [
    {
     "data": {
      "image/png": "[encoded data removed]",
      "text/plain": [
       "<Figure size 432x216 with 4 Axes>"
      ]
     },
     "metadata": {
      "needs_background": "light"
     },
     "output_type": "display_data"
    }
   ],
   "source": [
    "viridis = cm.get_cmap('viridis', 2)\n",
    "newcolors = viridis(np.linspace(0, 1, 2))\n",
    "plot_examples([viridis, newcmp])"
   ]
  },
  {
   "cell_type": "code",
   "execution_count": 14,
   "metadata": {},
   "outputs": [
    {
     "data": {
      "text/plain": [
       "(256, 4)"
      ]
     },
     "execution_count": 14,
     "metadata": {},
     "output_type": "execute_result"
    }
   ],
   "source": [
    "newcolors.shape"
   ]
  },
  {
   "cell_type": "code",
   "execution_count": 15,
   "metadata": {},
   "outputs": [
    {
     "data": {
      "image/png": "[encoded data removed]",
      "text/plain": [
       "<Figure size 432x216 with 4 Axes>"
      ]
     },
     "metadata": {
      "needs_background": "light"
     },
     "output_type": "display_data"
    }
   ],
   "source": [
    "viridis_big = cm.get_cmap('viridis', 512)\n",
    "newcmp = ListedColormap(viridis_big(np.linspace(0.25, 0.75, 256)))\n",
    "plot_examples([viridis, newcmp])"
   ]
  },
  {
   "cell_type": "markdown",
   "metadata": {},
   "source": [
    "## Set with two color"
   ]
  },
  {
   "cell_type": "code",
   "execution_count": 30,
   "metadata": {},
   "outputs": [],
   "source": [
    "from matplotlib import colors"
   ]
  },
  {
   "cell_type": "code",
   "execution_count": 42,
   "metadata": {},
   "outputs": [
    {
     "data": {
      "text/plain": [
       "(0.9372549019607843, 0.9529411764705882, 0.8784313725490196, 1)"
      ]
     },
     "execution_count": 42,
     "metadata": {},
     "output_type": "execute_result"
    }
   ],
   "source": [
    "a=np.array([239,243,224])/255\n",
    "colors.to_rgba(a)"
   ]
  },
  {
   "cell_type": "code",
   "execution_count": 44,
   "metadata": {},
   "outputs": [
    {
     "data": {
      "text/plain": [
       "(0.5411764705882353, 0.5372549019607843, 0.5411764705882353, 1.0)"
      ]
     },
     "execution_count": 44,
     "metadata": {},
     "output_type": "execute_result"
    }
   ],
   "source": []
  },
  {
   "cell_type": "code",
   "execution_count": 60,
   "metadata": {},
   "outputs": [
    {
     "data": {
      "image/png": "[encoded data removed]",
      "text/plain": [
       "<Figure size 288x72 with 1 Axes>"
      ]
     },
     "metadata": {
      "needs_background": "light"
     },
     "output_type": "display_data"
    },
    {
     "data": {
      "image/png": "[encoded data removed]",
      "text/plain": [
       "<Figure size 288x72 with 1 Axes>"
      ]
     },
     "metadata": {
      "needs_background": "light"
     },
     "output_type": "display_data"
    }
   ],
   "source": [
    "blue_rgb=np.array([47,187,240])/255\n",
    "blue_rgba=colors.to_rgba(blue_rgb)\n",
    "grey_rgba=colors.to_rgba('#8a898a')\n",
    "organge_rgba=colors.to_rgba('#ef8a62')\n",
    "dark_grey_rgba=colors.to_rgba('#999999')\n",
    "yellow_rgb=np.array([255,231,147])/255\n",
    "yellow_rgba=colors.to_rgba(yellow_rgb)\n",
    "\n",
    "brown_yellow_rgba_rgb=np.array([239,228,183])/255\n",
    "brown_yellow_rgba=colors.to_rgba(brown_yellow_rgba_rgb)\n",
    "sns.palplot(brown_yellow_rgba)\n",
    "\n",
    "brown_gray_rgba_rgb=np.array([196,196,158])/255\n",
    "brown_gray_rgba_rgb=np.array([177,169,136])/255\n",
    "brown_gray_rgba=colors.to_rgba(brown_gray_rgba_rgb)\n",
    "sns.palplot(brown_gray_rgba)"
   ]
  },
  {
   "cell_type": "code",
   "execution_count": 62,
   "metadata": {},
   "outputs": [
    {
     "data": {
      "image/png": "[encoded data removed]",
      "text/plain": [
       "<Figure size 288x216 with 2 Axes>"
      ]
     },
     "metadata": {
      "needs_background": "light"
     },
     "output_type": "display_data"
    }
   ],
   "source": [
    "# newcolor=colors.to_rgba_array(['#a7744e','#8a898a'])\n",
    "newcolor=[brown_yellow_rgba,brown_gray_rgba]\n",
    "newcmp=ListedColormap(newcolor)\n",
    "plot_examples([ newcmp])\n"
   ]
  },
  {
   "cell_type": "code",
   "execution_count": 71,
   "metadata": {},
   "outputs": [
    {
     "data": {
      "image/png": "[encoded data removed]",
      "text/plain": [
       "<Figure size 288x216 with 2 Axes>"
      ]
     },
     "metadata": {
      "needs_background": "light"
     },
     "output_type": "display_data"
    },
    {
     "data": {
      "image/png": "[encoded data removed]",
      "text/plain": [
       "<Figure size 288x216 with 2 Axes>"
      ]
     },
     "metadata": {
      "needs_background": "light"
     },
     "output_type": "display_data"
    },
    {
     "data": {
      "image/png": "[encoded data removed]",
      "text/plain": [
       "<Figure size 288x216 with 2 Axes>"
      ]
     },
     "metadata": {
      "needs_background": "light"
     },
     "output_type": "display_data"
    },
    {
     "data": {
      "image/png": "[encoded data removed]",
      "text/plain": [
       "<Figure size 288x216 with 2 Axes>"
      ]
     },
     "metadata": {
      "needs_background": "light"
     },
     "output_type": "display_data"
    },
    {
     "data": {
      "image/png": "[encoded data removed]",
      "text/plain": [
       "<Figure size 288x216 with 2 Axes>"
      ]
     },
     "metadata": {
      "needs_background": "light"
     },
     "output_type": "display_data"
    },
    {
     "data": {
      "image/png": "[encoded data removed]",
      "text/plain": [
       "<Figure size 288x216 with 2 Axes>"
      ]
     },
     "metadata": {
      "needs_background": "light"
     },
     "output_type": "display_data"
    },
    {
     "data": {
      "image/png": "[encoded data removed]",
      "text/plain": [
       "<Figure size 288x216 with 2 Axes>"
      ]
     },
     "metadata": {
      "needs_background": "light"
     },
     "output_type": "display_data"
    }
   ],
   "source": [
    "color_one=colors.to_rgba(np.array([193,123,190])/255)\n",
    "color_two=colors.to_rgba(np.array([154,165,197])/255)\n",
    "# sns.palplot(color_one)\n",
    "# sns.palplot(color_two)\n",
    "newcolor=[color_one,color_two]\n",
    "newcmp=ListedColormap(newcolor)\n",
    "plot_examples([ newcmp])\n",
    "\n",
    "color_one=colors.to_rgba(np.array([199,157,211])/255)\n",
    "color_two=colors.to_rgba(np.array([154,165,197])/255)\n",
    "# sns.palplot(color_one)\n",
    "# sns.palplot(color_two)\n",
    "newcolor=[color_one,color_two]\n",
    "newcmp=ListedColormap(newcolor)\n",
    "plot_examples([ newcmp])\n",
    "\n",
    "color_one=colors.to_rgba(np.array([198,139,195])/255)\n",
    "color_two=colors.to_rgba(np.array([154,165,197])/255)\n",
    "# sns.palplot(color_one)\n",
    "# sns.palplot(color_two)\n",
    "newcolor=[color_one,color_two]\n",
    "newcmp=ListedColormap(newcolor)\n",
    "plot_examples([ newcmp])\n",
    "\n",
    "color_one=colors.to_rgba(np.array([193,123,190])/255)\n",
    "color_two=colors.to_rgba(np.array([198,175,216])/255)\n",
    "# sns.palplot(color_one)\n",
    "# sns.palplot(color_two)\n",
    "newcolor=[color_one,color_two]\n",
    "newcmp=ListedColormap(newcolor)\n",
    "plot_examples([ newcmp])\n",
    "\n",
    "color_one=colors.to_rgba(np.array([246,70,70])/255)\n",
    "color_two=colors.to_rgba(np.array([0,0,0])/255)\n",
    "# sns.palplot(color_one)\n",
    "# sns.palplot(color_two)\n",
    "newcolor=[color_one,color_two]\n",
    "newcmp=ListedColormap(newcolor)\n",
    "plot_examples([ newcmp])\n",
    "\n",
    "color_one=colors.to_rgba(np.array([255,248,53])/255)\n",
    "color_two=colors.to_rgba(np.array([87,89,93])/255)\n",
    "# sns.palplot(color_one)\n",
    "# sns.palplot(color_two)\n",
    "newcolor=[color_one,color_two]\n",
    "newcmp=ListedColormap(newcolor)\n",
    "plot_examples([ newcmp])\n",
    "\n",
    "color_one=colors.to_rgba(np.array([255,248,53])/255)\n",
    "color_two=colors.to_rgba(np.array([87,89,93])/255)\n",
    "# sns.palplot(color_one)\n",
    "# sns.palplot(color_two)\n",
    "newcolor=[color_one,brown_gray_rgba]\n",
    "newcmp=ListedColormap(newcolor)\n",
    "plot_examples([ newcmp])"
   ]
  },
  {
   "cell_type": "code",
   "execution_count": 72,
   "metadata": {},
   "outputs": [
    {
     "data": {
      "image/png": "[encoded data removed]",
      "text/plain": [
       "<Figure size 288x216 with 2 Axes>"
      ]
     },
     "metadata": {
      "needs_background": "light"
     },
     "output_type": "display_data"
    }
   ],
   "source": [
    "color_one=colors.to_rgba(np.array([249,120,120])/255)\n",
    "color_two=colors.to_rgba(np.array([126,126,126])/255)\n",
    "# sns.palplot(color_one)\n",
    "# sns.palplot(color_two)\n",
    "newcolor=[color_one,color_two]\n",
    "newcmp=ListedColormap(newcolor)\n",
    "plot_examples([ newcmp])"
   ]
  },
  {
   "cell_type": "code",
   "execution_count": 75,
   "metadata": {},
   "outputs": [
    {
     "data": {
      "image/png": "[encoded data removed]",
      "text/plain": [
       "<Figure size 288x216 with 2 Axes>"
      ]
     },
     "metadata": {
      "needs_background": "light"
     },
     "output_type": "display_data"
    },
    {
     "data": {
      "image/png": "[encoded data removed]",
      "text/plain": [
       "<Figure size 288x216 with 2 Axes>"
      ]
     },
     "metadata": {
      "needs_background": "light"
     },
     "output_type": "display_data"
    }
   ],
   "source": [
    "color_one=colors.to_rgba('#0e387a')\n",
    "color_two=colors.to_rgba('#9fafca')\n",
    "\n",
    "# sns.palplot(color_one)\n",
    "# sns.palplot(color_two)\n",
    "newcolor=[color_one,color_two]\n",
    "newcmp=ListedColormap(newcolor)\n",
    "plot_examples([ newcmp])\n",
    "\n",
    "color_one=colors.to_rgba(np.array([255,0,0])/255)\n",
    "color_two=colors.to_rgba(np.array([0,0,0])/255)\n",
    "# sns.palplot(color_one)\n",
    "# sns.palplot(color_two)\n",
    "newcolor=[color_one,color_two]\n",
    "newcmp=ListedColormap(newcolor)\n",
    "plot_examples([ newcmp])"
   ]
  },
  {
   "cell_type": "code",
   "execution_count": 79,
   "metadata": {},
   "outputs": [
    {
     "data": {
      "image/png": "[encoded data removed]",
      "text/plain": [
       "<Figure size 288x216 with 2 Axes>"
      ]
     },
     "metadata": {
      "needs_background": "light"
     },
     "output_type": "display_data"
    }
   ],
   "source": [
    "color_one=colors.to_rgba('#FFD700')\n",
    "color_two=colors.to_rgba('#BDB76B')\n",
    "# sns.palplot(color_one)\n",
    "# sns.palplot(color_two)\n",
    "newcolor=[color_one,color_two]\n",
    "newcmp=ListedColormap(newcolor)\n",
    "plot_examples([ newcmp])"
   ]
  },
  {
   "cell_type": "code",
   "execution_count": 81,
   "metadata": {},
   "outputs": [
    {
     "data": {
      "image/png": "[encoded data removed]",
      "text/plain": [
       "<Figure size 288x216 with 2 Axes>"
      ]
     },
     "metadata": {
      "needs_background": "light"
     },
     "output_type": "display_data"
    }
   ],
   "source": [
    "color_one=colors.to_rgba('#7CFC00')\n",
    "color_two=colors.to_rgba('#BDB76B')\n",
    "# sns.palplot(color_one)\n",
    "# sns.palplot(color_two)\n",
    "newcolor=[color_one,color_two]\n",
    "newcmp=ListedColormap(newcolor)\n",
    "plot_examples([ newcmp])"
   ]
  },
  {
   "cell_type": "code",
   "execution_count": 80,
   "metadata": {},
   "outputs": [
    {
     "data": {
      "image/png": "[encoded data removed]",
      "text/plain": [
       "<Figure size 288x216 with 2 Axes>"
      ]
     },
     "metadata": {
      "needs_background": "light"
     },
     "output_type": "display_data"
    }
   ],
   "source": [
    "color_one=colors.to_rgba(np.array([255,250,250])/255)\n",
    "color_two=colors.to_rgba(np.array([0,0,0])/255)\n",
    "# sns.palplot(color_one)\n",
    "# sns.palplot(color_two)\n",
    "newcolor=[color_one,color_two]\n",
    "newcmp=ListedColormap(newcolor)\n",
    "plot_examples([ newcmp])"
   ]
  },
  {
   "cell_type": "markdown",
   "metadata": {},
   "source": [
    "# Xie Cell type color"
   ]
  },
  {
   "cell_type": "markdown",
   "metadata": {},
   "source": [
    "## DipC"
   ]
  },
  {
   "cell_type": "markdown",
   "metadata": {},
   "source": [
    "### cell type"
   ]
  },
  {
   "cell_type": "code",
   "execution_count": 11,
   "metadata": {
    "ExecuteTime": {
     "end_time": "2022-04-10T13:22:42.384350Z",
     "start_time": "2022-04-10T13:22:42.381348Z"
    }
   },
   "outputs": [],
   "source": [
    "hue_order=['Neonatal_Neuron_1', 'Neonatal_Neuron_2',\n",
    "           'Cortical_L2–5_Pyramidal_Cell','Cortical_L6_Pyramidal_Cell', \n",
    "           'Hippocampal_Pyramidal_Cell','Hippocampal_Granule_Cell',\n",
    "           'Interneuron','Medium_Spiny_Neuron',        \n",
    "           'Neonatal_Astrocyte', 'Adult_Astrocyte',\n",
    "           'Oligodendrocyte_Progenitor','Mature_Oligodendrocyte',    \n",
    "           'Microglia_Etc.',\n",
    "           'Unknown']\n",
    "hue_order=['Neonatal Neuron 1', 'Neonatal Neuron 2',\n",
    " 'Cortical L2–5 Pyramidal Cell','Cortical L6 Pyramidal Cell',\n",
    " 'Hippocampal Pyramidal Cell','Hippocampal Granule Cell',\n",
    " 'Interneuron','Medium Spiny Neuron',\n",
    " 'Neonatal Astrocyte', 'Adult Astrocyte',\n",
    " 'Oligodendrocyte Progenitor','Mature Oligodendrocyte',\n",
    " 'Microglia Etc.',\n",
    " 'Unknown']"
   ]
  },
  {
   "cell_type": "code",
   "execution_count": 5,
   "metadata": {
    "ExecuteTime": {
     "end_time": "2022-02-15T11:29:34.331022Z",
     "start_time": "2022-02-15T11:29:34.249698Z"
    }
   },
   "outputs": [
    {
     "name": "stdout",
     "output_type": "stream",
     "text": [
      "['#0ee83a', '#00e5e7', '#73b4fd', '#298efe', '#0275de', '#05569d', '#0031e7', '#6335fe', '#fe6464', '#c60000', '#ffe100', '#fdb000', '#000000', '#bfbfbf']\n"
     ]
    },
    {
     "data": {
      "image/png": "[encoded data removed]",
      "text/plain": [
       "<Figure size 1008x72 with 1 Axes>"
      ]
     },
     "metadata": {
      "needs_background": "light"
     },
     "output_type": "display_data"
    }
   ],
   "source": [
    "\n",
    "values=[(14/255,232/255,58/255),(0/255,229/255,231/255),(115/255,180/255,253/255),(41/255,142/255,254/255),\n",
    "       (2/255,117/255,222/255),(5/255,86/255,157/255),(0/255,49/255,231/255),(99/255,53/255,254/255),\n",
    "       (254/255,100/255,100/255),(198/255,0/255,0/255),\n",
    "       (255/255,225/255,0/255),(253/255,176/255,0/255),\n",
    "       (0/255,0/255,0/255),\n",
    "        (191/255,191/255,191/255),]\n",
    "sns.palplot(values)\n",
    "print(sns.color_palette(values).as_hex())"
   ]
  },
  {
   "cell_type": "markdown",
   "metadata": {},
   "source": [
    "### Age"
   ]
  },
  {
   "cell_type": "code",
   "execution_count": 6,
   "metadata": {
    "ExecuteTime": {
     "end_time": "2022-04-10T07:47:27.916142Z",
     "start_time": "2022-04-10T07:47:27.913140Z"
    }
   },
   "outputs": [],
   "source": [
    "hue_order=['1','7','28','56',\n",
    "           '309','347']"
   ]
  },
  {
   "cell_type": "code",
   "execution_count": 15,
   "metadata": {
    "ExecuteTime": {
     "end_time": "2022-04-11T08:44:26.068170Z",
     "start_time": "2022-04-11T08:44:26.011123Z"
    }
   },
   "outputs": [
    {
     "name": "stdout",
     "output_type": "stream",
     "text": [
      "['#f5db2a', '#d5bc25', '#2d8def', '#4556f4', '#3b26a7', '#3b26a7']\n"
     ]
    },
    {
     "data": {
      "image/png": "[encoded data removed]",
      "text/plain": [
       "<Figure size 432x72 with 1 Axes>"
      ]
     },
     "metadata": {
      "needs_background": "light"
     },
     "output_type": "display_data"
    }
   ],
   "source": [
    "values=[(245/255,219/255,42/255),(213/255,188/255,37/255),(45/255,141/255,239/255),(69/255,86/255,244/255),\n",
    "       (59/255,38/255,167/255),(59/255,38/255,167/255),]\n",
    "sns.palplot(values)\n",
    "print(sns.color_palette(values).as_hex())"
   ]
  },
  {
   "cell_type": "markdown",
   "metadata": {},
   "source": [
    "### Tissue"
   ]
  },
  {
   "cell_type": "code",
   "execution_count": 9,
   "metadata": {
    "ExecuteTime": {
     "end_time": "2022-04-10T08:24:44.775758Z",
     "start_time": "2022-04-10T08:24:44.773756Z"
    }
   },
   "outputs": [],
   "source": [
    "hue_order=['Cortex','Hippocampus']"
   ]
  },
  {
   "cell_type": "code",
   "execution_count": 10,
   "metadata": {
    "ExecuteTime": {
     "end_time": "2022-04-10T08:24:45.548098Z",
     "start_time": "2022-04-10T08:24:45.504061Z"
    }
   },
   "outputs": [
    {
     "name": "stdout",
     "output_type": "stream",
     "text": [
      "['#000000', '#cbcbcb']\n"
     ]
    },
    {
     "data": {
      "image/png": "[encoded data removed]",
      "text/plain": [
       "<Figure size 144x72 with 1 Axes>"
      ]
     },
     "metadata": {
      "needs_background": "light"
     },
     "output_type": "display_data"
    }
   ],
   "source": [
    "values=[(0/255,0/255,0/255),(203/255,203/255,203/255)]\n",
    "sns.palplot(values)\n",
    "print(sns.color_palette(values).as_hex())"
   ]
  },
  {
   "cell_type": "markdown",
   "metadata": {},
   "source": [
    "## DipC Visual Cortex"
   ]
  },
  {
   "cell_type": "code",
   "execution_count": 14,
   "metadata": {
    "ExecuteTime": {
     "end_time": "2022-04-10T13:27:59.699386Z",
     "start_time": "2022-04-10T13:27:59.696383Z"
    }
   },
   "outputs": [],
   "source": [
    "hue_order=['Neuron',\n",
    " 'Neonatal Astrocyte','Adult Astrocyte',\n",
    " 'Oligodendrocyte Progenitor','Mature Oligodendrocyte',\n",
    " 'Microglia Etc.',\n",
    " 'Unknown']"
   ]
  },
  {
   "cell_type": "code",
   "execution_count": 13,
   "metadata": {
    "ExecuteTime": {
     "end_time": "2022-04-10T13:27:07.143672Z",
     "start_time": "2022-04-10T13:27:07.082550Z"
    }
   },
   "outputs": [
    {
     "name": "stdout",
     "output_type": "stream",
     "text": [
      "['#007ed3', '#fe6464', '#c60000', '#ffe100', '#fdb000', '#000000', '#bfbfbf']\n"
     ]
    },
    {
     "data": {
      "image/png": "[encoded data removed]",
      "text/plain": [
       "<Figure size 504x72 with 1 Axes>"
      ]
     },
     "metadata": {
      "needs_background": "light"
     },
     "output_type": "display_data"
    }
   ],
   "source": [
    "values=[(0/255,126/255,211/255),\n",
    " (254/255,100/255,100/255),(198/255,0/255,0/255),\n",
    " (255/255,225/255,0/255),(253/255,176/255,0/255),\n",
    " (0/255,0/255,0/255),\n",
    " (191/255,191/255,191/255),]\n",
    "\n",
    "sns.palplot(values)\n",
    "print(sns.color_palette(values).as_hex())"
   ]
  },
  {
   "cell_type": "markdown",
   "metadata": {},
   "source": [
    "## Transcriptom cell type color"
   ]
  },
  {
   "cell_type": "markdown",
   "metadata": {},
   "source": [
    "### cell type"
   ]
  },
  {
   "cell_type": "code",
   "execution_count": null,
   "metadata": {},
   "outputs": [],
   "source": [
    "hue_order=['Neuron',\n",
    "          'Neonatal Astrocyte','Adult Astrocyte',\n",
    "          'Oligodendrocyte Progenitor','Newly Formed Oligodendrocyte','Mature Oligodendrocyte',\n",
    "          'Microglia Etc.']"
   ]
  },
  {
   "cell_type": "code",
   "execution_count": 3,
   "metadata": {
    "ExecuteTime": {
     "end_time": "2022-04-08T08:39:52.045447Z",
     "start_time": "2022-04-08T08:39:51.683515Z"
    }
   },
   "outputs": [
    {
     "name": "stdout",
     "output_type": "stream",
     "text": [
      "['#007ed3', '#fe6464', '#c60000', '#ffe100', '#fec803', '#fdb000', '#000000']\n"
     ]
    },
    {
     "data": {
      "image/png": "[encoded data removed]",
      "text/plain": [
       "<Figure size 504x72 with 1 Axes>"
      ]
     },
     "metadata": {
      "needs_background": "light"
     },
     "output_type": "display_data"
    }
   ],
   "source": [
    "values=[(0/255,126/255,211/255),\n",
    "        (254/255,100/255,100/255),(198/255,0/255,0/255),\n",
    "        (255/255,225/255,0/255),(254/255,200/255,3/255),(253/255,176/255,0/255),\n",
    "       (0/255,0/255,0/255),]\n",
    "sns.palplot(values)\n",
    "print(sns.color_palette(values).as_hex())"
   ]
  },
  {
   "cell_type": "markdown",
   "metadata": {},
   "source": [
    "### Age"
   ]
  },
  {
   "cell_type": "code",
   "execution_count": 6,
   "metadata": {
    "ExecuteTime": {
     "end_time": "2022-04-10T07:47:27.916142Z",
     "start_time": "2022-04-10T07:47:27.913140Z"
    }
   },
   "outputs": [],
   "source": [
    "hue_order=['1','7','14',\n",
    "           '21','28','56',\n",
    "           '180']"
   ]
  },
  {
   "cell_type": "code",
   "execution_count": 8,
   "metadata": {
    "ExecuteTime": {
     "end_time": "2022-04-10T07:53:46.814227Z",
     "start_time": "2022-04-10T07:53:46.748835Z"
    }
   },
   "outputs": [
    {
     "name": "stdout",
     "output_type": "stream",
     "text": [
      "['#f5db2a', '#d5bc25', '#51ca7c', '#07b6c8', '#2d8def', '#4556f4', '#3b26a7']\n"
     ]
    },
    {
     "data": {
      "image/png": "[encoded data removed]",
      "text/plain": [
       "<Figure size 504x72 with 1 Axes>"
      ]
     },
     "metadata": {
      "needs_background": "light"
     },
     "output_type": "display_data"
    }
   ],
   "source": [
    "values=[(245/255,219/255,42/255),(213/255,188/255,37/255),(81/255,202/255,124/255),\n",
    "        (7/255,182/255,200/255),(45/255,141/255,239/255),(69/255,86/255,244/255),\n",
    "       (59/255,38/255,167/255),]\n",
    "sns.palplot(values)\n",
    "print(sns.color_palette(values).as_hex())"
   ]
  },
  {
   "cell_type": "markdown",
   "metadata": {},
   "source": [
    "### Tissue"
   ]
  },
  {
   "cell_type": "code",
   "execution_count": 9,
   "metadata": {
    "ExecuteTime": {
     "end_time": "2022-04-10T08:24:44.775758Z",
     "start_time": "2022-04-10T08:24:44.773756Z"
    }
   },
   "outputs": [],
   "source": [
    "hue_order=['Cortex','Hippocampus']"
   ]
  },
  {
   "cell_type": "code",
   "execution_count": 10,
   "metadata": {
    "ExecuteTime": {
     "end_time": "2022-04-10T08:24:45.548098Z",
     "start_time": "2022-04-10T08:24:45.504061Z"
    }
   },
   "outputs": [
    {
     "name": "stdout",
     "output_type": "stream",
     "text": [
      "['#000000', '#cbcbcb']\n"
     ]
    },
    {
     "data": {
      "image/png": "[encoded data removed]",
      "text/plain": [
       "<Figure size 144x72 with 1 Axes>"
      ]
     },
     "metadata": {
      "needs_background": "light"
     },
     "output_type": "display_data"
    }
   ],
   "source": [
    "values=[(0/255,0/255,0/255),(203/255,203/255,203/255)]\n",
    "sns.palplot(values)\n",
    "print(sns.color_palette(values).as_hex())"
   ]
  },
  {
   "cell_type": "markdown",
   "metadata": {},
   "source": [
    "## Transcriptom neuron cell type color"
   ]
  },
  {
   "cell_type": "markdown",
   "metadata": {},
   "source": [
    "### cell type"
   ]
  },
  {
   "cell_type": "code",
   "execution_count": 4,
   "metadata": {
    "ExecuteTime": {
     "end_time": "2022-04-09T15:11:52.904877Z",
     "start_time": "2022-04-09T15:11:52.900874Z"
    }
   },
   "outputs": [],
   "source": [
    "hue_order=[\n",
    "     'Hippocampal CA1 Pyramidal Cell',\n",
    "     'Hippocampal CA3 Pyramidal Cell',\n",
    "     'Cortical L4 Pyramidal Cell',\n",
    "     'Cortical L2-4 Pyramidal Cell, Intermediate',\n",
    "     'Cortical L6 Pyramidal Cell',\n",
    "     'Cortical L2/3 Pyramidal Cell',\n",
    "     'Cajal-Retzius Cell',\n",
    "     'Hippocampal Pyramidal Cell, Neonatal',\n",
    "     'Cortical L5 Pyramidal Cell',\n",
    "     'Cortical L2-5 Pyramidal Cell, Neonatal',\n",
    "     'Hippocampal Granuale Cell',\n",
    " \n",
    "     'Unknown Interneuron 1',\n",
    "     'Medium Spiny Neuron',\n",
    "     'Unknown Interneuron 2',\n",
    "     'MEIS2 Interneuron',\n",
    "     'PV Interneuron',\n",
    "     'PV/SST Interneuron, Neonatal',\n",
    "     'SST Interneuron',\n",
    "     'VIP Interneuron',\n",
    "     'NDNF Interneuron',\n",
    "]"
   ]
  },
  {
   "cell_type": "code",
   "execution_count": 5,
   "metadata": {
    "ExecuteTime": {
     "end_time": "2022-04-09T15:27:03.459165Z",
     "start_time": "2022-04-09T15:27:03.355786Z"
    }
   },
   "outputs": [
    {
     "name": "stdout",
     "output_type": "stream",
     "text": [
      "['#3eb300', '#04b94c', '#e8812e', '#a1a400', '#bd9a02', '#f6766d', '#03bcc1', '#05bd7d', '#d68e00', '#7dac00', '#00bfa2', '#fd60ba', '#e56bf1', '#fd6a96', '#f761da', '#12aef4', '#c47bfe', '#03b7de', '#38a0fe', '#948efe']\n"
     ]
    },
    {
     "data": {
      "image/png": "[encoded data removed]",
      "text/plain": [
       "<Figure size 1440x72 with 1 Axes>"
      ]
     },
     "metadata": {
      "needs_background": "light"
     },
     "output_type": "display_data"
    }
   ],
   "source": [
    "values=[(62/255,179/255,0/255),\n",
    "        (4/255,185/255,76/255),\n",
    "        (232/255,129/255,46/255),\n",
    "        (161/255,164/255,0/255),\n",
    "        (189/255,154/255,2/255),\n",
    "        (246/255,118/255,109/255),\n",
    "        (3/255,188/255,193/255),\n",
    "        (5/255,189/255,125/255),\n",
    "        (214/255,142/255,0/255),\n",
    "        (125/255,172/255,0/255),\n",
    "        (0/255,191/255,162/255),\n",
    "        \n",
    "        (253/255,96/255,186/255),\n",
    "        (229/255,107/255,241/255),\n",
    "        (253/255,106/255,150/255),        \n",
    "        (247/255,97/255,218/255),\n",
    "        (18/255,174/255,244/255),\n",
    "        (196/255,123/255,254/255),\n",
    "        (3/255,183/255,222/255),\n",
    "        (56/255,160/255,254/255),\n",
    "        (148/255,142/255,254/255),]\n",
    "sns.palplot(values)\n",
    "print(sns.color_palette(values).as_hex())"
   ]
  },
  {
   "cell_type": "code",
   "execution_count": null,
   "metadata": {},
   "outputs": [],
   "source": []
  },
  {
   "cell_type": "markdown",
   "metadata": {},
   "source": [
    "### Age"
   ]
  },
  {
   "cell_type": "code",
   "execution_count": 6,
   "metadata": {
    "ExecuteTime": {
     "end_time": "2022-04-10T07:47:27.916142Z",
     "start_time": "2022-04-10T07:47:27.913140Z"
    }
   },
   "outputs": [],
   "source": [
    "hue_order=['1','7','14',\n",
    "           '21','28','56',\n",
    "           '180']"
   ]
  },
  {
   "cell_type": "code",
   "execution_count": 8,
   "metadata": {
    "ExecuteTime": {
     "end_time": "2022-04-10T07:53:46.814227Z",
     "start_time": "2022-04-10T07:53:46.748835Z"
    }
   },
   "outputs": [
    {
     "name": "stdout",
     "output_type": "stream",
     "text": [
      "['#f5db2a', '#d5bc25', '#51ca7c', '#07b6c8', '#2d8def', '#4556f4', '#3b26a7']\n"
     ]
    },
    {
     "data": {
      "image/png": "[encoded data removed]",
      "text/plain": [
       "<Figure size 504x72 with 1 Axes>"
      ]
     },
     "metadata": {
      "needs_background": "light"
     },
     "output_type": "display_data"
    }
   ],
   "source": [
    "values=[(245/255,219/255,42/255),(213/255,188/255,37/255),(81/255,202/255,124/255),\n",
    "        (7/255,182/255,200/255),(45/255,141/255,239/255),(69/255,86/255,244/255),\n",
    "       (59/255,38/255,167/255),]\n",
    "sns.palplot(values)\n",
    "print(sns.color_palette(values).as_hex())"
   ]
  },
  {
   "cell_type": "markdown",
   "metadata": {},
   "source": [
    "### Tissue"
   ]
  },
  {
   "cell_type": "code",
   "execution_count": 9,
   "metadata": {
    "ExecuteTime": {
     "end_time": "2022-04-10T08:24:44.775758Z",
     "start_time": "2022-04-10T08:24:44.773756Z"
    }
   },
   "outputs": [],
   "source": [
    "hue_order=['Cortex','Hippocampus']"
   ]
  },
  {
   "cell_type": "code",
   "execution_count": 10,
   "metadata": {
    "ExecuteTime": {
     "end_time": "2022-04-10T08:24:45.548098Z",
     "start_time": "2022-04-10T08:24:45.504061Z"
    }
   },
   "outputs": [
    {
     "name": "stdout",
     "output_type": "stream",
     "text": [
      "['#000000', '#cbcbcb']\n"
     ]
    },
    {
     "data": {
      "image/png": "[encoded data removed]",
      "text/plain": [
       "<Figure size 144x72 with 1 Axes>"
      ]
     },
     "metadata": {
      "needs_background": "light"
     },
     "output_type": "display_data"
    }
   ],
   "source": [
    "values=[(0/255,0/255,0/255),(203/255,203/255,203/255)]\n",
    "sns.palplot(values)\n",
    "print(sns.color_palette(values).as_hex())"
   ]
  },
  {
   "cell_type": "markdown",
   "metadata": {},
   "source": [
    "## Transcriptom and DipC"
   ]
  },
  {
   "cell_type": "markdown",
   "metadata": {},
   "source": [
    "### Technology"
   ]
  },
  {
   "cell_type": "code",
   "execution_count": 9,
   "metadata": {
    "ExecuteTime": {
     "end_time": "2022-04-10T08:24:44.775758Z",
     "start_time": "2022-04-10T08:24:44.773756Z"
    }
   },
   "outputs": [],
   "source": [
    "hue_order=['3D Genome', 'Transcriptom']"
   ]
  },
  {
   "cell_type": "code",
   "execution_count": 16,
   "metadata": {
    "ExecuteTime": {
     "end_time": "2022-04-13T14:36:26.751211Z",
     "start_time": "2022-04-13T14:36:26.706506Z"
    }
   },
   "outputs": [
    {
     "name": "stdout",
     "output_type": "stream",
     "text": [
      "['#a8a9ad', '#f9a41b']\n"
     ]
    },
    {
     "data": {
      "image/png": "[encoded data removed]",
      "text/plain": [
       "<Figure size 144x72 with 1 Axes>"
      ]
     },
     "metadata": {
      "needs_background": "light"
     },
     "output_type": "display_data"
    }
   ],
   "source": [
    "values=[(168/255,169/255,173/255),(249/255,164/255,27/255)]\n",
    "sns.palplot(values)\n",
    "print(sns.color_palette(values).as_hex())"
   ]
  },
  {
   "cell_type": "code",
   "execution_count": null,
   "metadata": {},
   "outputs": [],
   "source": []
  },
  {
   "cell_type": "markdown",
   "metadata": {},
   "source": [
    "### cell type"
   ]
  },
  {
   "cell_type": "code",
   "execution_count": null,
   "metadata": {},
   "outputs": [],
   "source": [
    "hue_order=['Neuron',\n",
    "          'Neonatal Astrocyte','Adult Astrocyte',\n",
    "          'Oligodendrocyte Progenitor','Newly Formed Oligodendrocyte','Mature Oligodendrocyte',\n",
    "          'Microglia Etc.']+['Neonatal Neuron 1', 'Neonatal Neuron 2',\n",
    " 'Cortical L2–5 Pyramidal Cell','Cortical L6 Pyramidal Cell',\n",
    " 'Hippocampal Pyramidal Cell','Hippocampal Granule Cell',\n",
    " 'Interneuron','Medium Spiny Neuron',\n",
    " 'Neonatal Astrocyte', 'Adult Astrocyte',\n",
    " 'Oligodendrocyte Progenitor','Mature Oligodendrocyte',\n",
    " 'Microglia Etc.',\n",
    " 'Unknown']"
   ]
  },
  {
   "cell_type": "code",
   "execution_count": 17,
   "metadata": {
    "ExecuteTime": {
     "end_time": "2022-04-13T14:50:18.073602Z",
     "start_time": "2022-04-13T14:50:17.968514Z"
    }
   },
   "outputs": [
    {
     "name": "stdout",
     "output_type": "stream",
     "text": [
      "['#007ed3', '#fe6464', '#c60000', '#ffe100', '#fec803', '#fdb000', '#000000', '#0ee83a', '#00e5e7', '#73b4fd', '#298efe', '#0275de', '#05569d', '#0031e7', '#6335fe', '#fe6464', '#c60000', '#ffe100', '#fdb000', '#000000', '#bfbfbf']\n"
     ]
    },
    {
     "data": {
      "image/png": "[encoded data removed]",
      "text/plain": [
       "<Figure size 1512x72 with 1 Axes>"
      ]
     },
     "metadata": {
      "needs_background": "light"
     },
     "output_type": "display_data"
    }
   ],
   "source": [
    "values=[(0/255,126/255,211/255),\n",
    "        (254/255,100/255,100/255),(198/255,0/255,0/255),\n",
    "        (255/255,225/255,0/255),(254/255,200/255,3/255),(253/255,176/255,0/255),\n",
    "       (0/255,0/255,0/255),]+[(14/255,232/255,58/255),(0/255,229/255,231/255),(115/255,180/255,253/255),(41/255,142/255,254/255),\n",
    "       (2/255,117/255,222/255),(5/255,86/255,157/255),(0/255,49/255,231/255),(99/255,53/255,254/255),\n",
    "       (254/255,100/255,100/255),(198/255,0/255,0/255),\n",
    "       (255/255,225/255,0/255),(253/255,176/255,0/255),\n",
    "       (0/255,0/255,0/255),\n",
    "        (191/255,191/255,191/255),]\n",
    "sns.palplot(values)\n",
    "print(sns.color_palette(values).as_hex())"
   ]
  },
  {
   "cell_type": "markdown",
   "metadata": {},
   "source": [
    "### Age"
   ]
  },
  {
   "cell_type": "code",
   "execution_count": 6,
   "metadata": {
    "ExecuteTime": {
     "end_time": "2022-04-10T07:47:27.916142Z",
     "start_time": "2022-04-10T07:47:27.913140Z"
    }
   },
   "outputs": [],
   "source": [
    "hue_order=['1','7','14',\n",
    "           '21','28','56',\n",
    "           '180']+['309','347']"
   ]
  },
  {
   "cell_type": "code",
   "execution_count": 18,
   "metadata": {
    "ExecuteTime": {
     "end_time": "2022-04-13T14:54:12.163498Z",
     "start_time": "2022-04-13T14:54:12.087889Z"
    }
   },
   "outputs": [
    {
     "name": "stdout",
     "output_type": "stream",
     "text": [
      "['#f5db2a', '#d5bc25', '#51ca7c', '#07b6c8', '#2d8def', '#4556f4', '#3b26a7', '#3b26a7', '#3b26a7']\n"
     ]
    },
    {
     "data": {
      "image/png": "[encoded data removed]",
      "text/plain": [
       "<Figure size 648x72 with 1 Axes>"
      ]
     },
     "metadata": {
      "needs_background": "light"
     },
     "output_type": "display_data"
    }
   ],
   "source": [
    "values=[(245/255,219/255,42/255),(213/255,188/255,37/255),(81/255,202/255,124/255),\n",
    "        (7/255,182/255,200/255),(45/255,141/255,239/255),(69/255,86/255,244/255),\n",
    "       (59/255,38/255,167/255),]+[(59/255,38/255,167/255),(59/255,38/255,167/255),]\n",
    "sns.palplot(values)\n",
    "print(sns.color_palette(values).as_hex())"
   ]
  },
  {
   "cell_type": "markdown",
   "metadata": {},
   "source": [
    "### Tissue"
   ]
  },
  {
   "cell_type": "code",
   "execution_count": 9,
   "metadata": {
    "ExecuteTime": {
     "end_time": "2022-04-10T08:24:44.775758Z",
     "start_time": "2022-04-10T08:24:44.773756Z"
    }
   },
   "outputs": [],
   "source": [
    "hue_order=['Cortex','Hippocampus']"
   ]
  },
  {
   "cell_type": "code",
   "execution_count": 10,
   "metadata": {
    "ExecuteTime": {
     "end_time": "2022-04-10T08:24:45.548098Z",
     "start_time": "2022-04-10T08:24:45.504061Z"
    }
   },
   "outputs": [
    {
     "name": "stdout",
     "output_type": "stream",
     "text": [
      "['#000000', '#cbcbcb']\n"
     ]
    },
    {
     "data": {
      "image/png": "[encoded data removed]",
      "text/plain": [
       "<Figure size 144x72 with 1 Axes>"
      ]
     },
     "metadata": {
      "needs_background": "light"
     },
     "output_type": "display_data"
    }
   ],
   "source": [
    "values=[(0/255,0/255,0/255),(203/255,203/255,203/255)]\n",
    "sns.palplot(values)\n",
    "print(sns.color_palette(values).as_hex())"
   ]
  },
  {
   "cell_type": "markdown",
   "metadata": {},
   "source": [
    "# Lee 19 NM cell type color"
   ]
  },
  {
   "cell_type": "code",
   "execution_count": 3,
   "metadata": {
    "ExecuteTime": {
     "end_time": "2022-02-21T14:32:26.754338Z",
     "start_time": "2022-02-21T14:32:26.751013Z"
    }
   },
   "outputs": [],
   "source": [
    "hue_order=['L23', 'L4', 'L5', 'L6', \n",
    "           'Pvalb', 'Sst', 'Vip', 'Ndnf', \n",
    "           'ODC','OPC', 'Astro', 'Endo', 'MG', 'MP']"
   ]
  },
  {
   "cell_type": "code",
   "execution_count": 4,
   "metadata": {
    "ExecuteTime": {
     "end_time": "2022-02-21T14:32:27.790551Z",
     "start_time": "2022-02-21T14:32:27.534492Z"
    }
   },
   "outputs": [
    {
     "name": "stdout",
     "output_type": "stream",
     "text": [
      "['#e51f4e', '#45af4b', '#ffe011', '#0081cc', '#4febee', '#ed37d9', '#951eb7', '#ff7f35', '#f9bdbb', '#067d81', '#d1f33c', '#780100', '#e4bcfc', '#ab6c1e']\n"
     ]
    },
    {
     "data": {
      "image/png": "[encoded data removed]",
      "text/plain": [
       "<Figure size 1008x72 with 1 Axes>"
      ]
     },
     "metadata": {
      "needs_background": "light"
     },
     "output_type": "display_data"
    }
   ],
   "source": [
    "values=[(229/255,31/255,78/255),(69/255,175/255,75/255),(255/255,224/255,17/255),(0/255,129/255,204/255),\n",
    "       (79/255,235/255,238/255),(237/255,55/255,217/255),(149/255,30/255,183/255),(255/255,127/255,53/255),\n",
    "       (249/255,189/255,187/255),(6/255,125/255,129/255),(209/255,243/255,60/255),(120/255,1/255,0/255),\n",
    "        (228/255,188/255,252/255),(171/255,108/255,30/255),]\n",
    "sns.palplot(values)\n",
    "print(sns.color_palette(values).as_hex())"
   ]
  },
  {
   "cell_type": "markdown",
   "metadata": {},
   "source": [
    "## modified by Xie color"
   ]
  },
  {
   "cell_type": "code",
   "execution_count": 2,
   "metadata": {
    "ExecuteTime": {
     "end_time": "2022-03-03T16:15:02.748783Z",
     "start_time": "2022-03-03T16:15:02.745451Z"
    }
   },
   "outputs": [],
   "source": [
    "hue_order=['L23', 'L4', 'L5', 'L6', \n",
    "           'Pvalb', 'Sst', 'Vip', 'Ndnf', \n",
    "           'ODC','OPC', 'Astro', 'Endo', 'MG', 'MP']"
   ]
  },
  {
   "cell_type": "code",
   "execution_count": 3,
   "metadata": {
    "ExecuteTime": {
     "end_time": "2022-03-03T16:16:16.314872Z",
     "start_time": "2022-03-03T16:16:15.947035Z"
    }
   },
   "outputs": [
    {
     "name": "stdout",
     "output_type": "stream",
     "text": [
      "['#0ee83a', '#00e5e7', '#73b4fd', '#298efe', '#0275de', '#05569d', '#0031e7', '#6335fe', '#f9bdbb', '#067d81', '#fe6464', '#780100', '#e4bcfc', '#ab6c1e']\n"
     ]
    },
    {
     "data": {
      "image/png": "[encoded data removed]",
      "text/plain": [
       "<Figure size 1008x72 with 1 Axes>"
      ]
     },
     "metadata": {
      "needs_background": "light"
     },
     "output_type": "display_data"
    }
   ],
   "source": [
    "values=[(14/255,232/255,58/255),(0/255,229/255,231/255),(115/255,180/255,253/255),(41/255,142/255,254/255),\n",
    "       (2/255,117/255,222/255),(5/255,86/255,157/255),(0/255,49/255,231/255),(99/255,53/255,254/255),\n",
    "       (249/255,189/255,187/255),(6/255,125/255,129/255),(254/255,100/255,100/255),(120/255,1/255,0/255),\n",
    "        (228/255,188/255,252/255),(171/255,108/255,30/255),]\n",
    "sns.palplot(values)\n",
    "print(sns.color_palette(values).as_hex())"
   ]
  },
  {
   "cell_type": "markdown",
   "metadata": {},
   "source": [
    "# Cai science  type color"
   ]
  },
  {
   "cell_type": "markdown",
   "metadata": {},
   "source": [
    "## original color"
   ]
  },
  {
   "cell_type": "code",
   "execution_count": 4,
   "metadata": {
    "ExecuteTime": {
     "end_time": "2022-03-03T16:34:48.580988Z",
     "start_time": "2022-03-03T16:34:48.515016Z"
    }
   },
   "outputs": [
    {
     "name": "stdout",
     "output_type": "stream",
     "text": [
      "['#686a96', '#cf90bf', '#8fbdd9', '#d3e2f0', '#d9878d', '#e8c77e', '#95cb96', '#f5a66e', '#cecece']\n"
     ]
    },
    {
     "data": {
      "image/png": "[encoded data removed]",
      "text/plain": [
       "<Figure size 648x72 with 1 Axes>"
      ]
     },
     "metadata": {
      "needs_background": "light"
     },
     "output_type": "display_data"
    }
   ],
   "source": [
    "hue_order=['Pvalb', 'Vip', 'Ndnf', 'Sst', 'Astro', 'Micro', 'Endo', 'OPC_Oligo', 'Exc']\n",
    "\n",
    "values=[(104/255,106/255,150/255),(207/255,144/255,191/255),(143/255,189/255,217/255),(211/255,226/255,240/255),\n",
    "       (217/255,135/255,141/255),(232/255,199/255,126/255),(149/255,203/255,150/255),(245/255,166/255,110/255),\n",
    "       (206/255,206/255,206/255)]\n",
    "sns.palplot(values)\n",
    "print(sns.color_palette(values).as_hex())"
   ]
  },
  {
   "cell_type": "markdown",
   "metadata": {},
   "source": [
    "## modified by Lee 19 and xie 21 color"
   ]
  },
  {
   "cell_type": "code",
   "execution_count": 5,
   "metadata": {
    "ExecuteTime": {
     "end_time": "2022-03-03T16:36:25.675990Z",
     "start_time": "2022-03-03T16:36:25.672658Z"
    }
   },
   "outputs": [],
   "source": [
    "hue_order=[ 'Exc',\n",
    "           'Pvalb', 'Sst','Vip', 'Ndnf', \n",
    "           'Astro', 'Micro', 'Endo', 'OPC_Oligo',]"
   ]
  },
  {
   "cell_type": "code",
   "execution_count": 6,
   "metadata": {
    "ExecuteTime": {
     "end_time": "2022-03-03T16:39:14.637834Z",
     "start_time": "2022-03-03T16:39:14.571198Z"
    }
   },
   "outputs": [
    {
     "name": "stdout",
     "output_type": "stream",
     "text": [
      "['#0ee83a', '#0275de', '#05569d', '#0031e7', '#6335fe', '#fe6464', '#000000', '#780100', '#067d81']\n"
     ]
    },
    {
     "data": {
      "image/png": "[encoded data removed]",
      "text/plain": [
       "<Figure size 648x72 with 1 Axes>"
      ]
     },
     "metadata": {
      "needs_background": "light"
     },
     "output_type": "display_data"
    }
   ],
   "source": [
    "values=[(14/255,232/255,58/255),\n",
    "       (2/255,117/255,222/255),(5/255,86/255,157/255),(0/255,49/255,231/255),(99/255,53/255,254/255),\n",
    "       (254/255,100/255,100/255),(0/255,0/255,0/255),(120/255,1/255,0/255),(6/255,125/255,129/255),]\n",
    "sns.palplot(values)\n",
    "print(sns.color_palette(values).as_hex())"
   ]
  },
  {
   "cell_type": "markdown",
   "metadata": {},
   "source": [
    "# cell cycle five color"
   ]
  },
  {
   "cell_type": "code",
   "execution_count": 5,
   "metadata": {
    "ExecuteTime": {
     "end_time": "2022-02-22T12:55:21.045693Z",
     "start_time": "2022-02-22T12:55:21.041045Z"
    }
   },
   "outputs": [],
   "source": [
    "hue_order=['G1', 'Early-S', 'Late S-G2', 'Pre-M','Post-M']"
   ]
  },
  {
   "cell_type": "code",
   "execution_count": 6,
   "metadata": {
    "ExecuteTime": {
     "end_time": "2022-02-22T12:58:57.233241Z",
     "start_time": "2022-02-22T12:58:57.154916Z"
    }
   },
   "outputs": [
    {
     "name": "stdout",
     "output_type": "stream",
     "text": [
      "['#377eb8', '#4daf4a', '#984ea3', '#ff7f00', '#e41a1c']\n"
     ]
    },
    {
     "data": {
      "image/png": "[encoded data removed]",
      "text/plain": [
       "<Figure size 360x72 with 1 Axes>"
      ]
     },
     "metadata": {
      "needs_background": "light"
     },
     "output_type": "display_data"
    }
   ],
   "source": [
    "values=[(55/255,126/255,184/255),(77/255,175/255,74/255),(152/255,78/255,163/255),(255/255,127/255,0/255),(228/255,26/255,28/255),]\n",
    "sns.palplot(values)\n",
    "print(sns.color_palette(values).as_hex())"
   ]
  },
  {
   "cell_type": "code",
   "execution_count": 8,
   "metadata": {
    "ExecuteTime": {
     "end_time": "2022-02-23T08:17:36.746600Z",
     "start_time": "2022-02-23T08:17:36.675965Z"
    }
   },
   "outputs": [
    {
     "name": "stdout",
     "output_type": "stream",
     "text": [
      "['#46b356', '#22b366']\n"
     ]
    },
    {
     "data": {
      "image/png": "[encoded data removed]",
      "text/plain": [
       "<Figure size 144x72 with 1 Axes>"
      ]
     },
     "metadata": {
      "needs_background": "light"
     },
     "output_type": "display_data"
    }
   ],
   "source": [
    "values=[(70/255,179/255,86/255),(34/255,179/255,102/255),]\n",
    "sns.palplot(values)\n",
    "print(sns.color_palette(values).as_hex())"
   ]
  }
 ],
 "metadata": {
  "kernelspec": {
   "display_name": "Python 3",
   "language": "python",
   "name": "python3"
  },
  "language_info": {
   "codemirror_mode": {
    "name": "ipython",
    "version": 3
   },
   "file_extension": ".py",
   "mimetype": "text/x-python",
   "name": "python",
   "nbconvert_exporter": "python",
   "pygments_lexer": "ipython3",
   "version": "3.7.4"
  },
  "toc": {
   "base_numbering": 1,
   "nav_menu": {},
   "number_sections": true,
   "sideBar": true,
   "skip_h1_title": false,
   "title_cell": "Table of Contents",
   "title_sidebar": "Contents",
   "toc_cell": false,
   "toc_position": {},
   "toc_section_display": true,
   "toc_window_display": true
  }
 },
 "nbformat": 4,
 "nbformat_minor": 4
}
