{
 "cells": [
  {
   "cell_type": "code",
   "execution_count": 1,
   "metadata": {
    "ExecuteTime": {
     "end_time": "2021-04-06T07:29:06.782136Z",
     "start_time": "2021-04-06T07:29:06.779134Z"
    }
   },
   "outputs": [],
   "source": [
    "from sacred import Experiment"
   ]
  },
  {
   "cell_type": "code",
   "execution_count": 3,
   "metadata": {
    "ExecuteTime": {
     "end_time": "2021-04-06T07:31:49.404947Z",
     "start_time": "2021-04-06T07:31:46.631631Z"
    }
   },
   "outputs": [],
   "source": [
    "ex=Experiment(name=\"Fan\",interactive=True)"
   ]
  },
  {
   "cell_type": "code",
   "execution_count": 4,
   "metadata": {
    "ExecuteTime": {
     "end_time": "2021-04-06T07:32:59.395398Z",
     "start_time": "2021-04-06T07:32:59.391395Z"
    }
   },
   "outputs": [],
   "source": [
    "@ex.main\n",
    "def my_main():\n",
    "    print(\"Test of main.\")"
   ]
  },
  {
   "cell_type": "code",
   "execution_count": 5,
   "metadata": {
    "ExecuteTime": {
     "end_time": "2021-04-06T07:33:49.315089Z",
     "start_time": "2021-04-06T07:33:49.300077Z"
    }
   },
   "outputs": [
    {
     "name": "stdout",
     "output_type": "stream",
     "text": [
      "Usage:\n",
      "  '..\\..\\..\\..\\software\\anaconda3_new\\lib\\site-packages\\ipykernel_launcher.py' [(with UPDATE...)] [options]\n",
      "  '..\\..\\..\\..\\software\\anaconda3_new\\lib\\site-packages\\ipykernel_launcher.py' help [COMMAND]\n",
      "  '..\\..\\..\\..\\software\\anaconda3_new\\lib\\site-packages\\ipykernel_launcher.py' (-h | --help)\n",
      "  '..\\..\\..\\..\\software\\anaconda3_new\\lib\\site-packages\\ipykernel_launcher.py' COMMAND [(with UPDATE...)] [options]\n",
      "Error: Command \"C:\\Users\\scfan\\AppData\\Roaming\\jupyter\\runtime\\kernel-7a9553c8-0147-4b6d-abf6-797aff55e87a.json\" not found. Available commands are: print_config, print_dependencies, save_config, print_named_configs, my_main\n"
     ]
    },
    {
     "ename": "SystemExit",
     "evalue": "1",
     "output_type": "error",
     "traceback": [
      "An exception has occurred, use %tb to see the full traceback.\n",
      "\u001b[1;31mSystemExit\u001b[0m\u001b[1;31m:\u001b[0m 1\n"
     ]
    },
    {
     "name": "stderr",
     "output_type": "stream",
     "text": [
      "E:\\Users\\scfan\\software\\anaconda3_new\\lib\\site-packages\\IPython\\core\\interactiveshell.py:3334: UserWarning: To exit: use 'exit', 'quit', or Ctrl-D.\n",
      "  warn(\"To exit: use 'exit', 'quit', or Ctrl-D.\", stacklevel=1)\n"
     ]
    }
   ],
   "source": [
    "if __name__ == '__main__':\n",
    "    ex.run_commandline()"
   ]
  }
 ],
 "metadata": {
  "kernelspec": {
   "display_name": "Python 3",
   "language": "python",
   "name": "python3"
  },
  "language_info": {
   "codemirror_mode": {
    "name": "ipython",
    "version": 3
   },
   "file_extension": ".py",
   "mimetype": "text/x-python",
   "name": "python",
   "nbconvert_exporter": "python",
   "pygments_lexer": "ipython3",
   "version": "3.7.4"
  },
  "toc": {
   "base_numbering": 1,
   "nav_menu": {},
   "number_sections": true,
   "sideBar": true,
   "skip_h1_title": false,
   "title_cell": "Table of Contents",
   "title_sidebar": "Contents",
   "toc_cell": false,
   "toc_position": {},
   "toc_section_display": true,
   "toc_window_display": false
  }
 },
 "nbformat": 4,
 "nbformat_minor": 2
}
