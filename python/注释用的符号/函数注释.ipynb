{
 "cells": [
  {
   "cell_type": "code",
   "execution_count": 3,
   "metadata": {
    "ExecuteTime": {
     "end_time": "2022-05-19T14:15:49.461935Z",
     "start_time": "2022-05-19T14:15:49.459934Z"
    }
   },
   "outputs": [],
   "source": [
    "from typing import Optional, Union"
   ]
  },
  {
   "cell_type": "code",
   "execution_count": 7,
   "metadata": {
    "ExecuteTime": {
     "end_time": "2022-05-19T15:16:03.274996Z",
     "start_time": "2022-05-19T15:16:03.270993Z"
    }
   },
   "outputs": [],
   "source": [
    "def train(\n",
    "    max_epochs: Optional[int] = None,\n",
    "    use_gpu: Optional[Union[str, int, bool]] = None,\n",
    "    train_size: float = 0.9,\n",
    "    validation_size: Optional[float] = None,\n",
    "    batch_size: int = 128,\n",
    "    early_stopping: bool = False,\n",
    "    plan_kwargs: Optional[dict] = None,\n",
    "    **trainer_kwargs,\n",
    "):\n",
    "    \n",
    "    batch_size=batch_size\n",
    "    return use_gpu"
   ]
  },
  {
   "cell_type": "code",
   "execution_count": 5,
   "metadata": {
    "ExecuteTime": {
     "end_time": "2022-05-19T14:18:15.591450Z",
     "start_time": "2022-05-19T14:18:15.583443Z"
    }
   },
   "outputs": [
    {
     "data": {
      "text/plain": [
       "{'max_epochs': typing.Union[int, NoneType],\n",
       " 'use_gpu': typing.Union[str, int, bool, NoneType],\n",
       " 'train_size': float,\n",
       " 'validation_size': typing.Union[float, NoneType],\n",
       " 'batch_size': int,\n",
       " 'early_stopping': bool,\n",
       " 'plan_kwargs': typing.Union[dict, NoneType]}"
      ]
     },
     "execution_count": 5,
     "metadata": {},
     "output_type": "execute_result"
    }
   ],
   "source": [
    "train.__annotations__"
   ]
  },
  {
   "cell_type": "code",
   "execution_count": 11,
   "metadata": {
    "ExecuteTime": {
     "end_time": "2022-05-19T15:16:28.039032Z",
     "start_time": "2022-05-19T15:16:28.036029Z"
    }
   },
   "outputs": [
    {
     "data": {
      "text/plain": [
       "[1, 2]"
      ]
     },
     "execution_count": 11,
     "metadata": {},
     "output_type": "execute_result"
    }
   ],
   "source": [
    "train(use_gpu=[1,2,])"
   ]
  },
  {
   "cell_type": "code",
   "execution_count": 13,
   "metadata": {
    "ExecuteTime": {
     "end_time": "2022-05-19T17:38:37.287861Z",
     "start_time": "2022-05-19T17:38:37.277206Z"
    },
    "scrolled": true
   },
   "outputs": [
    {
     "data": {
      "text/plain": [
       "[[0, 0],\n",
       " [0, 1],\n",
       " [1, 0],\n",
       " [1, 1],\n",
       " [2, 0],\n",
       " [2, 1],\n",
       " [3, 0],\n",
       " [3, 1],\n",
       " [4, 0],\n",
       " [4, 1],\n",
       " [5, 0],\n",
       " [5, 1],\n",
       " [6, 0],\n",
       " [6, 1],\n",
       " [7, 0],\n",
       " [7, 1],\n",
       " [8, 0],\n",
       " [8, 1],\n",
       " [9, 0],\n",
       " [9, 1]]"
      ]
     },
     "execution_count": 13,
     "metadata": {},
     "output_type": "execute_result"
    }
   ],
   "source": [
    "[[i,j] for i in range(10) for j in range(2)]"
   ]
  },
  {
   "cell_type": "code",
   "execution_count": null,
   "metadata": {},
   "outputs": [],
   "source": [
    "bandMiter = [[bandM, chromSelect, bandDist] for chromSelect, band_diags in band_chrom_diag.items() for bandDist, bandM in band_diags.items()]"
   ]
  }
 ],
 "metadata": {
  "kernelspec": {
   "display_name": "Python 3",
   "language": "python",
   "name": "python3"
  },
  "language_info": {
   "codemirror_mode": {
    "name": "ipython",
    "version": 3
   },
   "file_extension": ".py",
   "mimetype": "text/x-python",
   "name": "python",
   "nbconvert_exporter": "python",
   "pygments_lexer": "ipython3",
   "version": "3.7.4"
  },
  "toc": {
   "base_numbering": 1,
   "nav_menu": {},
   "number_sections": true,
   "sideBar": true,
   "skip_h1_title": false,
   "title_cell": "Table of Contents",
   "title_sidebar": "Contents",
   "toc_cell": false,
   "toc_position": {},
   "toc_section_display": true,
   "toc_window_display": false
  }
 },
 "nbformat": 4,
 "nbformat_minor": 2
}
