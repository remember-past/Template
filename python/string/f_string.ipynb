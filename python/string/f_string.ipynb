{
 "cells": [
  {
   "cell_type": "code",
   "execution_count": 2,
   "metadata": {
    "ExecuteTime": {
     "end_time": "2021-06-23T14:06:16.205907Z",
     "start_time": "2021-06-23T14:06:16.200902Z"
    }
   },
   "outputs": [
    {
     "data": {
      "text/plain": [
       "'hello,12.You 12'"
      ]
     },
     "execution_count": 2,
     "metadata": {},
     "output_type": "execute_result"
    }
   ],
   "source": [
    "name='12'\n",
    "age=12\n",
    "f\"hello,{name}.You {age}\""
   ]
  },
  {
   "cell_type": "code",
   "execution_count": 5,
   "metadata": {
    "ExecuteTime": {
     "end_time": "2021-06-23T14:11:42.675881Z",
     "start_time": "2021-06-23T14:11:42.588023Z"
    }
   },
   "outputs": [
    {
     "data": {
      "application/javascript": [
       "\n",
       "        if (window._pyforest_update_imports_cell) { window._pyforest_update_imports_cell('import pandas as pd\\nimport nltk\\nimport numpy as np\\nimport matplotlib.pyplot as plt\\nimport pickle'); }\n",
       "    "
      ],
      "text/plain": [
       "<IPython.core.display.Javascript object>"
      ]
     },
     "metadata": {},
     "output_type": "display_data"
    },
    {
     "data": {
      "text/plain": [
       "0    NaN\n",
       "1    NaN\n",
       "2    1.0\n",
       "3    1.0\n",
       "Name: 0, dtype: float64"
      ]
     },
     "execution_count": 5,
     "metadata": {},
     "output_type": "execute_result"
    }
   ],
   "source": [
    "import pandas as pd\n",
    "\n",
    "df=pd.DataFrame(np.ones([4,4]))\n",
    "df[0].rolling(3).mean()"
   ]
  },
  {
   "cell_type": "code",
   "execution_count": 15,
   "metadata": {
    "ExecuteTime": {
     "end_time": "2021-06-23T14:16:51.877153Z",
     "start_time": "2021-06-23T14:16:51.863144Z"
    }
   },
   "outputs": [
    {
     "name": "stdout",
     "output_type": "stream",
     "text": [
      "         ID     Padded    Padded2\n",
      "0  13453466  013453466  013453466\n",
      "1        44  000000044  000000044\n",
      "2      6343  000006343  000006343\n",
      "3     66577  000066577  000066577\n",
      "4    243423  000243423  000243423\n"
     ]
    }
   ],
   "source": [
    "df = pd.DataFrame.from_dict({'ID' :[13453466,44,6343,66577,243423]})\n",
    "df['Padded'] = [f'{x:09}' for x in df['ID']]\n",
    "df['Padded2'] = df['ID'].apply(lambda x: f'{x:09}')\n",
    "print(df)"
   ]
  },
  {
   "cell_type": "code",
   "execution_count": 22,
   "metadata": {
    "ExecuteTime": {
     "end_time": "2021-06-23T14:18:44.132108Z",
     "start_time": "2021-06-23T14:18:44.117094Z"
    }
   },
   "outputs": [
    {
     "name": "stdout",
     "output_type": "stream",
     "text": [
      "          Value         Currency       Currency 2\n",
      "0  2.345344e+05      $234,534.43      $234,534.43\n",
      "1  9.873245e+08  $987,324,543.34  $987,324,543.34\n",
      "2  1.234345e+06    $1,234,345.34    $1,234,345.34\n",
      "3  8.234430e+03        $8,234.43        $8,234.43\n"
     ]
    }
   ],
   "source": [
    "df = pd.DataFrame.from_dict({'Value' :[234534.43, 987324543.34, 1234345.34, 8234.43]})\n",
    "df['Currency'] = [f'${x:,.2f}' for x in df['Value']]\n",
    "df['Currency 2'] = df['Value'].apply(lambda x: f'${x:,.2f}')\n",
    "print(df)"
   ]
  }
 ],
 "metadata": {
  "kernelspec": {
   "display_name": "base_191",
   "language": "python",
   "name": "base_191"
  },
  "language_info": {
   "codemirror_mode": {
    "name": "ipython",
    "version": 3
   },
   "file_extension": ".py",
   "mimetype": "text/x-python",
   "name": "python",
   "nbconvert_exporter": "python",
   "pygments_lexer": "ipython3",
   "version": "3.7.4"
  },
  "toc": {
   "base_numbering": 1,
   "nav_menu": {},
   "number_sections": true,
   "sideBar": true,
   "skip_h1_title": false,
   "title_cell": "Table of Contents",
   "title_sidebar": "Contents",
   "toc_cell": false,
   "toc_position": {},
   "toc_section_display": true,
   "toc_window_display": false
  }
 },
 "nbformat": 4,
 "nbformat_minor": 4
}
