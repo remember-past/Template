{
 "cells": [
  {
   "cell_type": "markdown",
   "metadata": {},
   "source": [
    "# NodeKernel"
   ]
  },
  {
   "cell_type": "code",
   "execution_count": 1,
   "metadata": {
    "ExecuteTime": {
     "end_time": "2021-07-20T11:35:32.246752Z",
     "start_time": "2021-07-20T11:35:30.340045Z"
    }
   },
   "outputs": [
    {
     "name": "stderr",
     "output_type": "stream",
     "text": [
      "In E:\\Users\\scfan\\software\\anaconda3_new\\lib\\site-packages\\matplotlib\\mpl-data\\stylelib\\_classic_test.mplstyle: \n",
      "The text.latex.preview rcparam was deprecated in Matplotlib 3.3 and will be removed two minor releases later.\n",
      "In E:\\Users\\scfan\\software\\anaconda3_new\\lib\\site-packages\\matplotlib\\mpl-data\\stylelib\\_classic_test.mplstyle: \n",
      "The mathtext.fallback_to_cm rcparam was deprecated in Matplotlib 3.3 and will be removed two minor releases later.\n",
      "In E:\\Users\\scfan\\software\\anaconda3_new\\lib\\site-packages\\matplotlib\\mpl-data\\stylelib\\_classic_test.mplstyle: Support for setting the 'mathtext.fallback_to_cm' rcParam is deprecated since 3.3 and will be removed two minor releases later; use 'mathtext.fallback : 'cm' instead.\n",
      "In E:\\Users\\scfan\\software\\anaconda3_new\\lib\\site-packages\\matplotlib\\mpl-data\\stylelib\\_classic_test.mplstyle: \n",
      "The validate_bool_maybe_none function was deprecated in Matplotlib 3.3 and will be removed two minor releases later.\n",
      "In E:\\Users\\scfan\\software\\anaconda3_new\\lib\\site-packages\\matplotlib\\mpl-data\\stylelib\\_classic_test.mplstyle: \n",
      "The savefig.jpeg_quality rcparam was deprecated in Matplotlib 3.3 and will be removed two minor releases later.\n",
      "In E:\\Users\\scfan\\software\\anaconda3_new\\lib\\site-packages\\matplotlib\\mpl-data\\stylelib\\_classic_test.mplstyle: \n",
      "The keymap.all_axes rcparam was deprecated in Matplotlib 3.3 and will be removed two minor releases later.\n",
      "In E:\\Users\\scfan\\software\\anaconda3_new\\lib\\site-packages\\matplotlib\\mpl-data\\stylelib\\_classic_test.mplstyle: \n",
      "The animation.avconv_path rcparam was deprecated in Matplotlib 3.3 and will be removed two minor releases later.\n",
      "In E:\\Users\\scfan\\software\\anaconda3_new\\lib\\site-packages\\matplotlib\\mpl-data\\stylelib\\_classic_test.mplstyle: \n",
      "The animation.avconv_args rcparam was deprecated in Matplotlib 3.3 and will be removed two minor releases later.\n"
     ]
    }
   ],
   "source": [
    "from __future__ import print_function\n",
    "from builtins import range\n",
    "#================================================================================\n",
    "#    Marion Neumann [marion dot neumann at uni-bonn dot de]\n",
    "#    Daniel Marthaler [dan dot marthaler at gmail dot com]\n",
    "#    Shan Huang [shan dot huang at iais dot fraunhofer dot de]\n",
    "#    Kristian Kersting [kristian dot kersting at cs dot tu-dortmund dot de]\n",
    "#\n",
    "#    This file is part of pyGPs.\n",
    "#    The software package is released under the BSD 2-Clause (FreeBSD) License.\n",
    "#\n",
    "#    Copyright (c) by\n",
    "#    Marion Neumann, Daniel Marthaler, Shan Huang & Kristian Kersting, 18/02/2014\n",
    "#================================================================================\n",
    "\n",
    "import numpy as np\n",
    "from scipy.io import loadmat\n",
    "import matplotlib.pyplot as plt\n",
    "import pyGPs\n",
    "from pyGPs.GraphExtensions import graphUtil, nodeKernels\n",
    "from pyGPs.Validation import valid\n",
    "\n",
    "\n",
    "def load_binary(D1,D2,reduce=False):\n",
    "    data = loadmat('usps_resampled.mat')\n",
    "    x = data['train_patterns'].T   # train patterns\n",
    "    y = data['train_labels'].T     # train_labels\n",
    "    xx = data['test_patterns'].T   # test patterns\n",
    "    yy = data['test_labels'].T     # test labels\n",
    "    D1_list = []\n",
    "    D2_list = []\n",
    "    n,D = x.shape\n",
    "    for i in range(n):\n",
    "        if y[i,D1] == 1:\n",
    "            D1_list.append(i)\n",
    "        elif y[i,D2] == 1:\n",
    "            D2_list.append(i)\n",
    "    if reduce == True:\n",
    "        D1_list = D1_list[:100]\n",
    "        D2_list = D2_list[:100]\n",
    "    n1 = len(D1_list)\n",
    "    n2 = len(D2_list)\n",
    "    x_binary = np.concatenate((x[D1_list,:], x[D2_list,:]))\n",
    "    y_binary = np.concatenate((np.ones((n1,1)),-np.ones((n2,1))))\n",
    "    return x_binary,y_binary\n",
    "\n",
    "\n",
    "def plotDigit(digit, title_str=''):\n",
    "    fig, ax = plt.subplots()\n",
    "    ax.imshow(digit, cmap=plt.cm.gray, interpolation='nearest')\n",
    "    ax.spines['right'].set_visible(False)\n",
    "    ax.spines['top'].set_visible(False)\n",
    "    ax.spines['left'].set_visible(False)\n",
    "    ax.spines['bottom'].set_visible(False)\n",
    "    plt.title(title_str)\n",
    "    plt.show()"
   ]
  },
  {
   "cell_type": "code",
   "execution_count": 5,
   "metadata": {
    "ExecuteTime": {
     "end_time": "2021-07-20T11:48:53.183969Z",
     "start_time": "2021-07-20T11:48:53.181967Z"
    }
   },
   "outputs": [],
   "source": [
    "base_dir=r\"E:\\Users\\scfan\\software\\pyGPs-master\\pyGPs-master\\pyGPs\\Demo\\USPS\"\n",
    "import os\n",
    "os.chdir(base_dir)"
   ]
  },
  {
   "cell_type": "code",
   "execution_count": 6,
   "metadata": {
    "ExecuteTime": {
     "end_time": "2021-07-20T11:49:40.303111Z",
     "start_time": "2021-07-20T11:48:55.222890Z"
    },
    "scrolled": true
   },
   "outputs": [
    {
     "data": {
      "image/png": "[encoded data removed]",
      "text/plain": [
       "<Figure size 432x288 with 1 Axes>"
      ]
     },
     "metadata": {
      "needs_background": "light"
     },
     "output_type": "display_data"
    },
    {
     "data": {
      "image/png": "[encoded data removed]",
      "text/plain": [
       "<Figure size 432x288 with 1 Axes>"
      ]
     },
     "metadata": {
      "needs_background": "light"
     },
     "output_type": "display_data"
    },
    {
     "data": {
      "image/png": "[encoded data removed]",
      "text/plain": [
       "<Figure size 432x288 with 1 Axes>"
      ]
     },
     "metadata": {
      "needs_background": "light"
     },
     "output_type": "display_data"
    },
    {
     "data": {
      "image/png": "[encoded data removed]",
      "text/plain": [
       "<Figure size 432x288 with 1 Axes>"
      ]
     },
     "metadata": {
      "needs_background": "light"
     },
     "output_type": "display_data"
    },
    {
     "data": {
      "image/png": "[encoded data removed]",
      "text/plain": [
       "<Figure size 432x288 with 1 Axes>"
      ]
     },
     "metadata": {
      "needs_background": "light"
     },
     "output_type": "display_data"
    },
    {
     "data": {
      "image/png": "[encoded data removed]",
      "text/plain": [
       "<Figure size 432x288 with 1 Axes>"
      ]
     },
     "metadata": {
      "needs_background": "light"
     },
     "output_type": "display_data"
    },
    {
     "name": "stderr",
     "output_type": "stream",
     "text": [
      "Number of line searches 13\n"
     ]
    },
    {
     "data": {
      "text/plain": [
       "(array([[ 0.99927283],\n",
       "        [ 0.99757845],\n",
       "        [-0.98953243],\n",
       "        [-0.98796898],\n",
       "        [-0.13153081],\n",
       "        [-0.92063047]]), array([[0.00145381],\n",
       "        [0.00483723],\n",
       "        [0.02082557],\n",
       "        [0.0239173 ],\n",
       "        [0.98269965],\n",
       "        [0.15243954]]), array([[  741.30207519],\n",
       "        [  505.89004364],\n",
       "        [-1247.12216226],\n",
       "        [-1529.92087037],\n",
       "        [  -77.92974841],\n",
       "        [ -693.44486065]]), array([[ 48125.2150945 ],\n",
       "        [ 27820.09870627],\n",
       "        [237323.216191  ],\n",
       "        [371161.32819753],\n",
       "        [221445.51359909],\n",
       "        [156237.63340965]]), None)"
      ]
     },
     "execution_count": 6,
     "metadata": {},
     "output_type": "execute_result"
    },
    {
     "name": "stderr",
     "output_type": "stream",
     "text": [
      "Number of line searches 2\n"
     ]
    },
    {
     "data": {
      "text/plain": [
       "(array([[ 1.99936844e-01],\n",
       "        [ 3.24154499e-01],\n",
       "        [-1.90704126e-01],\n",
       "        [-1.91046841e-01],\n",
       "        [ 8.80117448e-02],\n",
       "        [ 1.95325544e-04]]), array([[0.96002526],\n",
       "        [0.89492386],\n",
       "        [0.96363194],\n",
       "        [0.9635011 ],\n",
       "        [0.99225393],\n",
       "        [0.99999996]]), array([[ 3.02450384e-01],\n",
       "        [ 4.48583548e-01],\n",
       "        [-2.88400026e-01],\n",
       "        [-2.89113459e-01],\n",
       "        [ 1.25428584e-01],\n",
       "        [ 2.91925137e-04]]), array([[0.42612195],\n",
       "        [0.15092058],\n",
       "        [0.42807747],\n",
       "        [0.42990626],\n",
       "        [0.28772976],\n",
       "        [0.42201774]]), None)"
      ]
     },
     "execution_count": 6,
     "metadata": {},
     "output_type": "execute_result"
    },
    {
     "name": "stderr",
     "output_type": "stream",
     "text": [
      "Number of line searches 6\n"
     ]
    },
    {
     "data": {
      "text/plain": [
       "(array([[ 0.91571425],\n",
       "        [ 0.92179166],\n",
       "        [-0.8678491 ],\n",
       "        [-0.84968405],\n",
       "        [ 0.11292468],\n",
       "        [-0.49300581]]), array([[0.16146742],\n",
       "        [0.15030014],\n",
       "        [0.24683793],\n",
       "        [0.27803701],\n",
       "        [0.98724802],\n",
       "        [0.75694527]]), array([[ 2.20156338],\n",
       "        [ 2.00758834],\n",
       "        [-2.11345802],\n",
       "        [-2.08790496],\n",
       "        [ 0.19168499],\n",
       "        [-0.91421757]]), array([[0.62632858],\n",
       "        [0.29940042],\n",
       "        [0.97026835],\n",
       "        [1.10694017],\n",
       "        [0.82206231],\n",
       "        [0.89838444]]), None)"
      ]
     },
     "execution_count": 6,
     "metadata": {},
     "output_type": "execute_result"
    },
    {
     "name": "stdout",
     "output_type": "stream",
     "text": [
      "[[ 38.   1.   1.   1.   1.]\n",
      " [ 81.   1.   1.   1.   1.]\n",
      " [124.  -1.  -1.  -1.  -1.]\n",
      " [129.  -1.  -1.  -1.  -1.]\n",
      " [ 70.   1.  -1.   1.   1.]\n",
      " [190.  -1.  -1.   1.  -1.]]\n",
      "accuracy (RBF):  0.8333333333333334\n",
      "accuracy (DIFF):  0.8333333333333334\n",
      "accuracy (SUM):  1.0\n"
     ]
    }
   ],
   "source": [
    "if __name__ == \"__main__\":\n",
    "    # load small reduced dataset with 2 classes\n",
    "    # digit 1 for +1 and digit 2 for -1\n",
    "    x,y = load_binary(1,2,reduce=True)\n",
    "  \n",
    "    # plot example digit\n",
    "    exampleDigit1_1 = x[38]    # sample digit 1\n",
    "    exampleDigit1_1 = np.reshape(exampleDigit1_1,(16,16))\n",
    "    plotDigit(exampleDigit1_1, 'This is a 1.')\n",
    "\n",
    "    exampleDigit1_2 = x[81]    # another sample digit 1\n",
    "    exampleDigit1_2 = np.reshape(exampleDigit1_2,(16,16))\n",
    "    plotDigit(exampleDigit1_2, 'This is another 1.')\n",
    "\n",
    "    exampleDigit7_1 = x[124]   # sample digit 2\n",
    "    exampleDigit7_1 = np.reshape(exampleDigit7_1,(16,16))\n",
    "    plotDigit(exampleDigit7_1, 'This is a 2.')\n",
    "\n",
    "    exampleDigit7_2 = x[129]   # another sample digit 2\n",
    "    exampleDigit7_2 = np.reshape(exampleDigit7_2,(16,16))\n",
    "    plotDigit(exampleDigit7_2, 'This is another 2.')\n",
    "\n",
    "    # true class 1     \n",
    "    exampleDigitBad = x[70]    # digit that predicts wrong for rbf\n",
    "    exampleDigitBad = np.reshape(exampleDigitBad,(16,16))\n",
    "    plotDigit(exampleDigitBad, 'This digit is an example where the rbf kernel predicts the wrong class (2). \\nDiffusion kernel predicts correctly due to graph information!')\n",
    "    \n",
    "    # true class 2     \n",
    "    exampleDigitBad = x[190]    # digit that predicts wrong for diff\n",
    "    exampleDigitBad = np.reshape(exampleDigitBad,(16,16))\n",
    "    plotDigit(exampleDigitBad, 'This digit is an example where the diff kernel predicts the wrong class (1). \\nrbf kernel, however, predicts correctly!')\n",
    "\n",
    "\n",
    "    # form a 2-nearest neighbour graph \n",
    "    A = graphUtil.formKnnGraph(x,2)\n",
    "\n",
    "    # use diffusion kernel to get precomputed matrix\n",
    "    Matrix = nodeKernels.diffKernel(A)\n",
    "    N = Matrix.shape[0]\n",
    "    \n",
    "    # set training and test set\n",
    "    index_train = range(N)\n",
    "    index_test = [38, 81, 124, 129, 70, 190]\n",
    "    index_train =  np.setdiff1d(index_train, index_test)\n",
    "        \n",
    "    ## RBF kernel\n",
    "    # initialize Gaussian process\n",
    "    model = pyGPs.GPC()\n",
    "    k = pyGPs.cov.RBF()\n",
    "    model.setPrior(kernel=k)\n",
    "\n",
    "    # split training and test data\n",
    "    x_train = x[index_train,:]\n",
    "    y_train = y[index_train,:]\n",
    "    x_test = x[index_test,:]\n",
    "    y_test = y[index_test,:]\n",
    "    \n",
    "    # gp\n",
    "    model.optimize(x_train, y_train)\n",
    "    model.predict(x_test)\n",
    "    \n",
    "    # evaluation \n",
    "    predictive_class_rbf = np.sign(model.ym)\n",
    "    ACC_rbf = valid.ACC(predictive_class_rbf, y_test)    \n",
    "\n",
    "    ## DIFFUSION Kernel\n",
    "    # compute kernel matrix and initalize GP with precomputed kernel                  \n",
    "    model = pyGPs.GPC()\n",
    "    M1,M2 = graphUtil.formKernelMatrix(Matrix, index_train, index_test)\n",
    "    k = pyGPs.cov.Pre(M1,M2)          \n",
    "    model.setPrior(kernel=k)\n",
    "\n",
    "    # if you only use precomputed kernel matrix, there is no training data needed,\n",
    "    # but you still need to specify x_train (due to general structure of pyGPs)\n",
    "    # e.g. you can use the following:\n",
    "    n = len(index_train)\n",
    "    x_train = np.zeros((n,1))\n",
    "\n",
    "    # gp\n",
    "    model.optimize(x_train, y_train)\n",
    "    model.predict(x_test)\n",
    "    \n",
    "    # evaluation \n",
    "    predictive_class_diff = np.sign(model.ym)\n",
    "    ACC_diff = valid.ACC(predictive_class_diff, y_test)\n",
    "    \n",
    "    ## SUM of DIFFUSION and RBF Kernel\n",
    "    # compute kernel matrix and initalize GP with precomputed kernel                  \n",
    "    model = pyGPs.gp.GPC()\n",
    "    M1,M2 = graphUtil.formKernelMatrix(Matrix, index_train, index_test)\n",
    "    k = pyGPs.cov.Pre(M1,M2) + pyGPs.cov.RBFunit()\n",
    "    model.setPrior(kernel=k)\n",
    "\n",
    "    # if you use combination of precomputed matrix and other kernel function,\n",
    "    # you can pass traning data in the normal way: x_train = x[index_train,:]\n",
    "    x_train = x[index_train,:]\n",
    "    # gp\n",
    "    model.optimize(x_train, y_train)\n",
    "    model.predict(x_test)\n",
    "    \n",
    "    # evaluation \n",
    "    predictive_class_sum = np.sign(model.ym)\n",
    "    ACC_sum = valid.ACC(predictive_class_sum, y_test)\n",
    "    \n",
    "    \n",
    "    print(np.hstack((np.array(index_test, ndmin=2).T, y_test, predictive_class_rbf, predictive_class_diff, predictive_class_sum)))\n",
    "    print('accuracy (RBF): ' , ACC_rbf)\n",
    "    print('accuracy (DIFF): ' , ACC_diff)\n",
    "    print('accuracy (SUM): ' , ACC_sum)"
   ]
  },
  {
   "cell_type": "code",
   "execution_count": 21,
   "metadata": {
    "ExecuteTime": {
     "end_time": "2021-07-20T15:13:43.371849Z",
     "start_time": "2021-07-20T15:13:43.354807Z"
    },
    "scrolled": true
   },
   "outputs": [
    {
     "data": {
      "text/plain": [
       "array([[0., 0., 0., ..., 0., 0., 0.],\n",
       "       [0., 0., 0., ..., 0., 0., 0.],\n",
       "       [0., 0., 0., ..., 0., 0., 0.],\n",
       "       ...,\n",
       "       [0., 0., 0., ..., 0., 0., 0.],\n",
       "       [0., 0., 0., ..., 0., 0., 0.],\n",
       "       [0., 0., 0., ..., 0., 0., 0.]])"
      ]
     },
     "execution_count": 21,
     "metadata": {},
     "output_type": "execute_result"
    },
    {
     "data": {
      "text/plain": [
       "(200, 200)"
      ]
     },
     "execution_count": 21,
     "metadata": {},
     "output_type": "execute_result"
    },
    {
     "data": {
      "text/plain": [
       "array([  0,   1,   2,   3,   4,   5,   6,   7,   8,   9,  10,  11,  12,\n",
       "        13,  14,  15,  16,  17,  18,  19,  20,  21,  22,  23,  24,  25,\n",
       "        26,  27,  28,  29,  30,  31,  32,  33,  34,  35,  36,  37,  39,\n",
       "        40,  41,  42,  43,  44,  45,  46,  47,  48,  49,  50,  51,  52,\n",
       "        53,  54,  55,  56,  57,  58,  59,  60,  61,  62,  63,  64,  65,\n",
       "        66,  67,  68,  69,  71,  72,  73,  74,  75,  76,  77,  78,  79,\n",
       "        80,  82,  83,  84,  85,  86,  87,  88,  89,  90,  91,  92,  93,\n",
       "        94,  95,  96,  97,  98,  99, 100, 101, 102, 103, 104, 105, 106,\n",
       "       107, 108, 109, 110, 111, 112, 113, 114, 115, 116, 117, 118, 119,\n",
       "       120, 121, 122, 123, 125, 126, 127, 128, 130, 131, 132, 133, 134,\n",
       "       135, 136, 137, 138, 139, 140, 141, 142, 143, 144, 145, 146, 147,\n",
       "       148, 149, 150, 151, 152, 153, 154, 155, 156, 157, 158, 159, 160,\n",
       "       161, 162, 163, 164, 165, 166, 167, 168, 169, 170, 171, 172, 173,\n",
       "       174, 175, 176, 177, 178, 179, 180, 181, 182, 183, 184, 185, 186,\n",
       "       187, 188, 189, 191, 192, 193, 194, 195, 196, 197, 198, 199])"
      ]
     },
     "execution_count": 21,
     "metadata": {},
     "output_type": "execute_result"
    }
   ],
   "source": [
    "A\n",
    "Matrix.shape\n",
    "index_train"
   ]
  },
  {
   "cell_type": "code",
   "execution_count": 26,
   "metadata": {
    "ExecuteTime": {
     "end_time": "2021-07-20T16:14:39.950894Z",
     "start_time": "2021-07-20T16:14:39.947892Z"
    }
   },
   "outputs": [
    {
     "data": {
      "text/plain": [
       "array([[ 0.91571425],\n",
       "       [ 0.92179166],\n",
       "       [-0.8678491 ],\n",
       "       [-0.84968405],\n",
       "       [ 0.11292468],\n",
       "       [-0.49300581]])"
      ]
     },
     "execution_count": 26,
     "metadata": {},
     "output_type": "execute_result"
    }
   ],
   "source": [
    "model.ym"
   ]
  },
  {
   "cell_type": "code",
   "execution_count": 10,
   "metadata": {
    "ExecuteTime": {
     "end_time": "2021-07-20T15:08:33.343831Z",
     "start_time": "2021-07-20T15:07:49.264853Z"
    },
    "scrolled": true
   },
   "outputs": [
    {
     "name": "stderr",
     "output_type": "stream",
     "text": [
      "Number of line searches 13\n"
     ]
    },
    {
     "data": {
      "text/plain": [
       "(array([[ 0.99927283],\n",
       "        [ 0.99757845],\n",
       "        [-0.98953243],\n",
       "        [-0.98796898],\n",
       "        [-0.13153081],\n",
       "        [-0.92063047]]), array([[0.00145381],\n",
       "        [0.00483723],\n",
       "        [0.02082557],\n",
       "        [0.0239173 ],\n",
       "        [0.98269965],\n",
       "        [0.15243954]]), array([[  741.30207519],\n",
       "        [  505.89004364],\n",
       "        [-1247.12216226],\n",
       "        [-1529.92087037],\n",
       "        [  -77.92974841],\n",
       "        [ -693.44486065]]), array([[ 48125.2150945 ],\n",
       "        [ 27820.09870627],\n",
       "        [237323.216191  ],\n",
       "        [371161.32819753],\n",
       "        [221445.51359909],\n",
       "        [156237.63340965]]), None)"
      ]
     },
     "execution_count": 10,
     "metadata": {},
     "output_type": "execute_result"
    },
    {
     "name": "stderr",
     "output_type": "stream",
     "text": [
      "Number of line searches 2\n"
     ]
    },
    {
     "data": {
      "text/plain": [
       "(array([[ 1.99936844e-01],\n",
       "        [ 3.24154499e-01],\n",
       "        [-1.90704126e-01],\n",
       "        [-1.91046841e-01],\n",
       "        [ 8.80117448e-02],\n",
       "        [ 1.95325544e-04]]), array([[0.96002526],\n",
       "        [0.89492386],\n",
       "        [0.96363194],\n",
       "        [0.9635011 ],\n",
       "        [0.99225393],\n",
       "        [0.99999996]]), array([[ 3.02450384e-01],\n",
       "        [ 4.48583548e-01],\n",
       "        [-2.88400026e-01],\n",
       "        [-2.89113459e-01],\n",
       "        [ 1.25428584e-01],\n",
       "        [ 2.91925137e-04]]), array([[0.42612195],\n",
       "        [0.15092058],\n",
       "        [0.42807747],\n",
       "        [0.42990626],\n",
       "        [0.28772976],\n",
       "        [0.42201774]]), None)"
      ]
     },
     "execution_count": 10,
     "metadata": {},
     "output_type": "execute_result"
    },
    {
     "name": "stderr",
     "output_type": "stream",
     "text": [
      "Number of line searches 6\n"
     ]
    },
    {
     "data": {
      "text/plain": [
       "(array([[ 0.91571425],\n",
       "        [ 0.92179166],\n",
       "        [-0.8678491 ],\n",
       "        [-0.84968405],\n",
       "        [ 0.11292468],\n",
       "        [-0.49300581]]), array([[0.16146742],\n",
       "        [0.15030014],\n",
       "        [0.24683793],\n",
       "        [0.27803701],\n",
       "        [0.98724802],\n",
       "        [0.75694527]]), array([[ 2.20156338],\n",
       "        [ 2.00758834],\n",
       "        [-2.11345802],\n",
       "        [-2.08790496],\n",
       "        [ 0.19168499],\n",
       "        [-0.91421757]]), array([[0.62632858],\n",
       "        [0.29940042],\n",
       "        [0.97026835],\n",
       "        [1.10694017],\n",
       "        [0.82206231],\n",
       "        [0.89838444]]), None)"
      ]
     },
     "execution_count": 10,
     "metadata": {},
     "output_type": "execute_result"
    },
    {
     "name": "stdout",
     "output_type": "stream",
     "text": [
      "[[ 38.   1.   1.   1.   1.]\n",
      " [ 81.   1.   1.   1.   1.]\n",
      " [124.  -1.  -1.  -1.  -1.]\n",
      " [129.  -1.  -1.  -1.  -1.]\n",
      " [ 70.   1.  -1.   1.   1.]\n",
      " [190.  -1.  -1.   1.  -1.]]\n",
      "accuracy (RBF):  0.8333333333333334\n",
      "accuracy (DIFF):  0.8333333333333334\n",
      "accuracy (SUM):  1.0\n"
     ]
    }
   ],
   "source": [
    "# form a 2-nearest neighbour graph \n",
    "A = graphUtil.formKnnGraph(x,2)\n",
    "\n",
    "# use diffusion kernel to get precomputed matrix\n",
    "Matrix = nodeKernels.diffKernel(A)\n",
    "N = Matrix.shape[0]\n",
    "\n",
    "# set training and test set\n",
    "index_train = range(N)\n",
    "index_test = [38, 81, 124, 129, 70, 190]\n",
    "index_train =  np.setdiff1d(index_train, index_test)\n",
    "\n",
    "## RBF kernel\n",
    "# initialize Gaussian process\n",
    "model = pyGPs.GPC()\n",
    "k = pyGPs.cov.RBF()\n",
    "model.setPrior(kernel=k)\n",
    "\n",
    "# split training and test data\n",
    "x_train = x[index_train,:]\n",
    "y_train = y[index_train,:]\n",
    "x_test = x[index_test,:]\n",
    "y_test = y[index_test,:]\n",
    "\n",
    "# gp\n",
    "model.optimize(x_train, y_train)\n",
    "model.predict(x_test)\n",
    "\n",
    "# evaluation \n",
    "predictive_class_rbf = np.sign(model.ym)\n",
    "ACC_rbf = valid.ACC(predictive_class_rbf, y_test)    \n",
    "\n",
    "## DIFFUSION Kernel\n",
    "# compute kernel matrix and initalize GP with precomputed kernel                  \n",
    "model = pyGPs.GPC()\n",
    "M1,M2 = graphUtil.formKernelMatrix(Matrix, index_train, index_test)\n",
    "k = pyGPs.cov.Pre(M1,M2)          \n",
    "model.setPrior(kernel=k)\n",
    "\n",
    "# if you only use precomputed kernel matrix, there is no training data needed,\n",
    "# but you still need to specify x_train (due to general structure of pyGPs)\n",
    "# e.g. you can use the following:\n",
    "n = len(index_train)\n",
    "x_train = np.zeros((n,1))\n",
    "\n",
    "# gp\n",
    "model.optimize(x_train, y_train)\n",
    "model.predict(x_test)\n",
    "\n",
    "# evaluation \n",
    "predictive_class_diff = np.sign(model.ym)\n",
    "ACC_diff = valid.ACC(predictive_class_diff, y_test)\n",
    "\n",
    "## SUM of DIFFUSION and RBF Kernel\n",
    "# compute kernel matrix and initalize GP with precomputed kernel                  \n",
    "model = pyGPs.gp.GPC()\n",
    "M1,M2 = graphUtil.formKernelMatrix(Matrix, index_train, index_test)\n",
    "k = pyGPs.cov.Pre(M1,M2) + pyGPs.cov.RBFunit()\n",
    "model.setPrior(kernel=k)\n",
    "\n",
    "# if you use combination of precomputed matrix and other kernel function,\n",
    "# you can pass traning data in the normal way: x_train = x[index_train,:]\n",
    "x_train = x[index_train,:]\n",
    "# gp\n",
    "model.optimize(x_train, y_train)\n",
    "model.predict(x_test)\n",
    "\n",
    "# evaluation \n",
    "predictive_class_sum = np.sign(model.ym)\n",
    "ACC_sum = valid.ACC(predictive_class_sum, y_test)\n",
    "\n",
    "\n",
    "print(np.hstack((np.array(index_test, ndmin=2).T, y_test, predictive_class_rbf, predictive_class_diff, predictive_class_sum)))\n",
    "print('accuracy (RBF): ' , ACC_rbf)\n",
    "print('accuracy (DIFF): ' , ACC_diff)\n",
    "print('accuracy (SUM): ' , ACC_sum)"
   ]
  },
  {
   "cell_type": "markdown",
   "metadata": {},
   "source": [
    "# "
   ]
  }
 ],
 "metadata": {
  "kernelspec": {
   "display_name": "Python 3",
   "language": "python",
   "name": "python3"
  },
  "language_info": {
   "codemirror_mode": {
    "name": "ipython",
    "version": 3
   },
   "file_extension": ".py",
   "mimetype": "text/x-python",
   "name": "python",
   "nbconvert_exporter": "python",
   "pygments_lexer": "ipython3",
   "version": "3.7.4"
  },
  "toc": {
   "base_numbering": 1,
   "nav_menu": {},
   "number_sections": true,
   "sideBar": true,
   "skip_h1_title": false,
   "title_cell": "Table of Contents",
   "title_sidebar": "Contents",
   "toc_cell": false,
   "toc_position": {},
   "toc_section_display": true,
   "toc_window_display": true
  }
 },
 "nbformat": 4,
 "nbformat_minor": 2
}
