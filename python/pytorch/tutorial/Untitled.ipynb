{
 "cells": [
  {
   "cell_type": "code",
   "execution_count": 1,
   "metadata": {},
   "outputs": [],
   "source": [
    "import sys"
   ]
  },
  {
   "cell_type": "code",
   "execution_count": 2,
   "metadata": {},
   "outputs": [
    {
     "data": {
      "text/plain": [
       "['E:\\\\Users\\\\scfan\\\\program\\\\python\\\\pytorch\\\\tutorial',\n",
       " 'E:\\\\Users\\\\scfan\\\\software\\\\anaconda3_new\\\\python37.zip',\n",
       " 'E:\\\\Users\\\\scfan\\\\software\\\\anaconda3_new\\\\DLLs',\n",
       " 'E:\\\\Users\\\\scfan\\\\software\\\\anaconda3_new\\\\lib',\n",
       " 'E:\\\\Users\\\\scfan\\\\software\\\\anaconda3_new',\n",
       " '',\n",
       " 'E:\\\\Users\\\\scfan\\\\software\\\\anaconda3_new\\\\lib\\\\site-packages',\n",
       " 'E:\\\\Users\\\\scfan\\\\software\\\\anaconda3_new\\\\lib\\\\site-packages\\\\mstd-2.0-py3.7.egg',\n",
       " 'E:\\\\Users\\\\scfan\\\\software\\\\anaconda3_new\\\\lib\\\\site-packages\\\\circlet-1.0-py3.7.egg',\n",
       " 'E:\\\\Users\\\\scfan\\\\software\\\\anaconda3_new\\\\lib\\\\site-packages\\\\wishbone-3.1.3-py3.7.egg',\n",
       " 'E:\\\\Users\\\\scfan\\\\software\\\\anaconda3_new\\\\lib\\\\site-packages\\\\scalpl-0.4.0-py3.7.egg',\n",
       " 'E:\\\\Users\\\\scfan\\\\software\\\\anaconda3_new\\\\lib\\\\site-packages\\\\easydict-1.9-py3.7.egg',\n",
       " 'E:\\\\Users\\\\scfan\\\\software\\\\anaconda3_new\\\\lib\\\\site-packages\\\\msgpack_python-0.5.6-py3.7-win-amd64.egg',\n",
       " 'E:\\\\Users\\\\scfan\\\\software\\\\anaconda3_new\\\\lib\\\\site-packages\\\\win32',\n",
       " 'E:\\\\Users\\\\scfan\\\\software\\\\anaconda3_new\\\\lib\\\\site-packages\\\\win32\\\\lib',\n",
       " 'E:\\\\Users\\\\scfan\\\\software\\\\anaconda3_new\\\\lib\\\\site-packages\\\\Pythonwin',\n",
       " 'E:\\\\Users\\\\scfan\\\\software\\\\anaconda3_new\\\\lib\\\\site-packages\\\\IPython\\\\extensions',\n",
       " 'C:\\\\Users\\\\scfan\\\\.ipython']"
      ]
     },
     "execution_count": 2,
     "metadata": {},
     "output_type": "execute_result"
    }
   ],
   "source": [
    "sys.path"
   ]
  }
 ],
 "metadata": {
  "kernelspec": {
   "display_name": "Python 3",
   "language": "python",
   "name": "python3"
  },
  "language_info": {
   "codemirror_mode": {
    "name": "ipython",
    "version": 3
   },
   "file_extension": ".py",
   "mimetype": "text/x-python",
   "name": "python",
   "nbconvert_exporter": "python",
   "pygments_lexer": "ipython3",
   "version": "3.7.4"
  }
 },
 "nbformat": 4,
 "nbformat_minor": 4
}
