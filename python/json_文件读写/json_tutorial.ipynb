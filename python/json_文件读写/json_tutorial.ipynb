{
 "cells": [
  {
   "cell_type": "code",
   "execution_count": 16,
   "metadata": {
    "ExecuteTime": {
     "end_time": "2021-05-01T17:39:34.093329Z",
     "start_time": "2021-05-01T17:39:34.086323Z"
    }
   },
   "outputs": [
    {
     "data": {
      "text/plain": [
       "{'anme': 'foot', 'cpu_num': -1}"
      ]
     },
     "execution_count": 16,
     "metadata": {},
     "output_type": "execute_result"
    }
   ],
   "source": [
    "import json\n",
    "\n",
    "def get_config(config_path = \"./config.jSON\"):\n",
    "\tc = open(config_path,\"r\")\n",
    "\treturn json.load(c)\n",
    "\n",
    "d1={'anme':'foot',\"cpu_num\": -1}\n",
    "json.dump(d1,open(r'./config.jSON','w'))\n",
    "\n",
    "c=get_config()\n",
    "c"
   ]
  },
  {
   "cell_type": "code",
   "execution_count": 24,
   "metadata": {
    "ExecuteTime": {
     "end_time": "2021-05-01T17:46:14.312981Z",
     "start_time": "2021-05-01T17:46:14.308977Z"
    }
   },
   "outputs": [
    {
     "data": {
      "text/plain": [
       "{'cpu_num': -1,\n",
       " 'gpu_num': 2,\n",
       " 'data_dir': 'E:\\\\Users\\\\scfan\\\\data\\\\Zhuang_2020_Cell_data\\\\chromosome2',\n",
       " 'data_dir1': 'E:\\\\Users\\\\scfan\\\\data\\\\Zhuang_2020_Cell_data\\\\chromosome2'}"
      ]
     },
     "execution_count": 24,
     "metadata": {},
     "output_type": "execute_result"
    }
   ],
   "source": [
    "c=get_config()\n",
    "c"
   ]
  },
  {
   "cell_type": "code",
   "execution_count": 14,
   "metadata": {
    "ExecuteTime": {
     "end_time": "2021-05-01T17:30:45.319955Z",
     "start_time": "2021-05-01T17:30:45.312949Z"
    }
   },
   "outputs": [
    {
     "ename": "ModuleNotFoundError",
     "evalue": "No module named 'resource'",
     "output_type": "error",
     "traceback": [
      "\u001b[1;31m---------------------------------------------------------------------------\u001b[0m",
      "\u001b[1;31mModuleNotFoundError\u001b[0m                       Traceback (most recent call last)",
      "\u001b[1;32m<ipython-input-14-b34319507ebf>\u001b[0m in \u001b[0;36m<module>\u001b[1;34m\u001b[0m\n\u001b[1;32m----> 1\u001b[1;33m \u001b[1;32mimport\u001b[0m \u001b[0mresource\u001b[0m\u001b[1;33m\u001b[0m\u001b[0m\n\u001b[0m\u001b[0;32m      2\u001b[0m \u001b[0mresource\u001b[0m\u001b[1;33m.\u001b[0m\u001b[0mRLIMIT_NPROC\u001b[0m\u001b[1;33m\u001b[0m\u001b[0m\n",
      "\u001b[1;31mModuleNotFoundError\u001b[0m: No module named 'resource'"
     ]
    }
   ],
   "source": [
    "import resource\n",
    "resource.RLIMIT_NPROC"
   ]
  }
 ],
 "metadata": {
  "kernelspec": {
   "display_name": "python_pytroch",
   "language": "python",
   "name": "python_pytroch"
  },
  "language_info": {
   "codemirror_mode": {
    "name": "ipython",
    "version": 3
   },
   "file_extension": ".py",
   "mimetype": "text/x-python",
   "name": "python",
   "nbconvert_exporter": "python",
   "pygments_lexer": "ipython3",
   "version": "3.6.2"
  },
  "toc": {
   "base_numbering": 1,
   "nav_menu": {},
   "number_sections": true,
   "sideBar": true,
   "skip_h1_title": false,
   "title_cell": "Table of Contents",
   "title_sidebar": "Contents",
   "toc_cell": false,
   "toc_position": {},
   "toc_section_display": true,
   "toc_window_display": false
  }
 },
 "nbformat": 4,
 "nbformat_minor": 2
}
